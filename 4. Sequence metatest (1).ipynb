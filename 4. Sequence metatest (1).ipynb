{
 "cells": [
  {
   "cell_type": "markdown",
   "metadata": {},
   "source": [
    "#### Использованные библиотеки"
   ]
  },
  {
   "cell_type": "code",
   "execution_count": 4,
   "metadata": {
    "tags": []
   },
   "outputs": [],
   "source": [
    "!pip install -r requirements.txt"
   ]
  },
  {
   "cell_type": "code",
   "execution_count": 3,
   "metadata": {
    "colab": {
     "base_uri": "https://localhost:8080/",
     "height": 36
    },
    "id": "a3rmOh1oCLJH",
    "outputId": "99a73ce9-0770-4a92-88ef-f6c019107f89",
    "tags": []
   },
   "outputs": [
    {
     "name": "stderr",
     "output_type": "stream",
     "text": [
      "C:\\Users\\Maloy\\Documents\\Python\\Lib\\site-packages\\tqdm\\auto.py:21: TqdmWarning:\n",
      "\n",
      "IProgress not found. Please update jupyter and ipywidgets. See https://ipywidgets.readthedocs.io/en/stable/user_install.html\n",
      "\n"
     ]
    },
    {
     "data": {
      "text/plain": [
       "'cpu'"
      ]
     },
     "execution_count": 3,
     "metadata": {},
     "output_type": "execute_result"
    }
   ],
   "source": [
    "%load_ext autoreload\n",
    "%autoreload 2\n",
    "\n",
    "import numpy as np\n",
    "import pandas as pd\n",
    "\n",
    "import torch\n",
    "from torch import nn\n",
    "from torch import optim\n",
    "from torch.nn import functional as F\n",
    "from torchvision.datasets import MNIST, FashionMNIST\n",
    "\n",
    "import wandb\n",
    "import pytorch_lightning as pl\n",
    "from pytorch_lightning.callbacks.early_stopping import EarlyStopping\n",
    "from pytorch_lightning.loggers import WandbLogger\n",
    "from torch.utils.data import DataLoader\n",
    "\n",
    "from pl_base import BestValidCallback\n",
    "from datagen import SubLoader, TaskAugmentor\n",
    "from models import GPT\n",
    "from utils import gpt_params, g_transform\n",
    "\n",
    "import logging\n",
    "logging.getLogger(\"pytorch_lightning.utilities.rank_zero\").setLevel(logging.WARNING)\n",
    "logging.getLogger(\"pytorch_lightning.accelerators.cuda\").setLevel(logging.WARNING)\n",
    "\n",
    "from IPython.display import clear_output\n",
    "import warnings\n",
    "warnings.filterwarnings(\"ignore\")\n",
    "\n",
    "torch.set_float32_matmul_precision('medium')\n",
    "device = \"cuda\" if torch.cuda.is_available() else \"cpu\"\n",
    "device"
   ]
  },
  {
   "cell_type": "markdown",
   "metadata": {},
   "source": [
    "### Учимся учиться"
   ]
  },
  {
   "attachments": {},
   "cell_type": "markdown",
   "metadata": {},
   "source": [
    "#### Setup\n",
    "\n",
    "Одна из самых интересных вещей в этой статье - то, что трансформер, если ему дать достаточно много задач, начинает не просто запоминать задачи, а вычленять общие закономерности, чтобы решать такие задачи, которых он ещё не видел. Мы будем смотреть это через такой же метатест, что и в `3. Metatrain.ipynb`. Вкратце: даём модели последовательность в 99 примеров, смотрим на качество на 100-м. Разнциа лишь в том, что интересует нас теперь лишь трансформер, а также смотреть будем не только на 100-й пример, но и на аккураси в целом по мере обработки последовательности\n",
    "\n",
    "На картинке ниже показан график улучшения аккураси в зависимости от числа тасок. Суть здесь в том, что аккураси у каждого отдельного элемента последовательности может быть сколь угодно высокий, например `[0.9., 1., 0.9, 1.]`, но значимое улучшение составит лишь 0.1, модель не научилась обрабатывать таску в совокупности, она просто запомнила какое-то оптимальное решение задачи. Если же улучшение наоборот большое, то модель хорошо обобщает и вне зависимости от последовательности выдаёт правильный ответ, потому что научилась учиться. Чем больше тасок, тем больше эффект, фазовый переход происходит примерно на числе в $2^{13}$\n",
    "\n",
    "<img src=\"src/seq_improv_ref.png\" width=\"500px\">\n",
    "\n",
    "Помимо этого посмотрим на сам график улучшения аккураси. В случае трансформера это можно сделать через маску - так, чтобы модель видела лишь часть данных при предсказании, а аккураси будет означать качество на 100-м лейбле. Если качество растёт, хоть как-то, то модель научилась извлекать информацию из последовательности - то есть научилась учиться. В нашем сетапе будем делать это для трансформера на $2^{16}$ тасках, как и в статье\n",
    "\n",
    "<img src=\"src/per_seq_acc_ref.png\" width=\"500px\">"
   ]
  },
  {
   "cell_type": "markdown",
   "metadata": {},
   "source": [
    "Конфиг, трансформы и датасеты здесь такие же, как в предыдущих экспериментах, как самые удачные. Нам понадобится 3 валидации: MNIST с теми же тасками, MNIST с новыми тасками и FashionMNIST с новыми тасками. Учиться будем либо на MNIST, либо на FashionMNIST"
   ]
  },
  {
   "cell_type": "markdown",
   "metadata": {},
   "source": [
    "#### Train"
   ]
  },
  {
   "cell_type": "code",
   "execution_count": null,
   "metadata": {
    "scrolled": true,
    "tags": []
   },
   "outputs": [],
   "source": [
    "mnist_test = SubLoader(MNIST('./datasets', train=True, transform=g_transform))\n",
    "fashion_mnist_test = SubLoader(FashionMNIST('./datasets', train=True, transform=g_transform))"
   ]
  },
  {
   "cell_type": "markdown",
   "metadata": {},
   "source": [
    "Для подсчёта аккураси понадобится кастомная функция. Она генерирует маски до $i$-го токена, делает предсказание модели, имея в виду лишь $i$ токенов, подсчитывает качество для каждого $i$ и его общий прирост - разница в аккураси между обучением на 99 и обучением на 1"
   ]
  },
  {
   "cell_type": "code",
   "execution_count": 147,
   "metadata": {
    "tags": []
   },
   "outputs": [],
   "source": [
    "def seq_accuracy(model, loader):\n",
    "    res = torch.zeros(99)\n",
    "    for i in range(99):\n",
    "        attention_mask = torch.zeros(len(loader), 100)\n",
    "        attention_mask[:, :i] = 1\n",
    "        pred = F.softmax(\n",
    "            model(loader.dataset.data, attention_mask=attention_mask), 1\n",
    "        ).argmax(1)\n",
    "        res[i] += (pred[:, -1] == loader.dataset.targets[:, -1]).float().mean()\n",
    "    return res, res[-1] - res[0]"
   ]
  },
  {
   "cell_type": "markdown",
   "metadata": {},
   "source": [
    "Логику вытаскивания даталоадеров лучше сразу засунуть в функцию. Её лучше вообще не менять. Число тасок в тесте это более изящный способ фиксации сида - оцениваем по каждой, затем усредняем"
   ]
  },
  {
   "cell_type": "code",
   "execution_count": null,
   "metadata": {},
   "outputs": [],
   "source": [
    "def augment_data(\n",
    "    n_tasks, draw_sequence, batch_size, train_dataset, seed\n",
    "):\n",
    "    train_samples = 1\n",
    "    train_augmentor = TaskAugmentor(n_tasks, draw_sequence=True, random_state=seed)\n",
    "    seen_augmentor = TaskAugmentor(256, draw_sequence=True, random_state=seed)\n",
    "    unseen_augmentor = TaskAugmentor(256, draw_sequence=True, random_state=seed+1)\n",
    "    train_loader = DataLoader(\n",
    "        train_augmentor.transform(train_dataset, train_samples),\n",
    "        batch_size=batch_size, shuffle=True\n",
    "    )\n",
    "    valid_loader = DataLoader(\n",
    "        seen_augmentor.transform(mnist_test, 1),\n",
    "        batch_size=1, shuffle=False\n",
    "    )\n",
    "    test_loader = DataLoader(\n",
    "        unseen_augmentor.transform(mnist_test, 1),\n",
    "        batch_size=1, shuffle=False\n",
    "    )\n",
    "    test_fashion_loader = DataLoader(\n",
    "        unseen_augmentor.transform(fashion_mnist_test, 1),\n",
    "        batch_size=1, shuffle=False\n",
    "    )\n",
    "    return train_loader, valid_loader, test_loader, test_fashion_loader"
   ]
  },
  {
   "cell_type": "markdown",
   "metadata": {},
   "source": [
    "Функция ниже запускает обучение и логгирует результаты на wandb, [там](https://wandb.ai/lerostre/gpicl?workspace=user-lerostre) можно на них полюбоваться. Ключевая проблема - модели реально долго учить, они выходят на плато, поэтому EarlyStopping. результаты как обычно в датафрейм. Я запускал только для одного сида, потому что нету времени, а результаты и так видно\n",
    "\n",
    "Основные параметры - трейн, у нас их 2, число тасок для перебора, таски, на которых замеряем улучшение аккураси, батч сайз для даталоадера, куда сохранять 100-е аккураси, куда сохранять аккураси от 1 до 99, сид, и конфиг для трансформера"
   ]
  },
  {
   "cell_type": "code",
   "execution_count": 149,
   "metadata": {
    "scrolled": true,
    "tags": []
   },
   "outputs": [],
   "source": [
    "def train_for_sequence_improvement(\n",
    "    train_dataset: SubLoader,\n",
    "    n_tasks_list: np.ndarray = 2**np.arange(0, 19),\n",
    "    n_tasks_for_full_check: int = [2**16],\n",
    "    batch_size: int = 128,\n",
    "    output_csv: str = \"last_acc.csv\",\n",
    "    seq_res_output: str = \"mnist_seq_acc\",\n",
    "    random_state: int = 69,\n",
    "    gpt_params = gpt_params,\n",
    "    log=True\n",
    "):\n",
    "    logs = []\n",
    "    for n_tasks in n_tasks_list:\n",
    "\n",
    "        wandb_logger = None\n",
    "        if log:\n",
    "            # change if necessary\n",
    "            wandb.init(project=\"gpicl\", name=f\"gpt_2^{int(np.log2(n_tasks))}\", tags=[\"gpt\"])\n",
    "            wandb_logger = WandbLogger(log_model=False)\n",
    "        # get loaders=[train, \"seen_mnist\", \"unseen_mnist\", \"unseen_fashion_mnist\"]\n",
    "        loaders = augment_data(\n",
    "            n_tasks, draw_sequence=True, seed=random_state,\n",
    "            batch_size=batch_size, train_dataset=train_dataset\n",
    "        )\n",
    "        model_name, model = \"gpt\", GPT(**gpt_params)\n",
    "\n",
    "        # training loop, free to adjust\n",
    "        trainer = pl.Trainer(\n",
    "            precision=\"16\",\n",
    "            accelerator=\"gpu\",\n",
    "            logger=wandb_logger,\n",
    "            enable_progress_bar=not log,\n",
    "            max_steps=100000,\n",
    "            enable_model_summary=False,\n",
    "            callbacks=[EarlyStopping(\n",
    "                monitor=\"train_accuracy\",\n",
    "                min_delta=0.025,\n",
    "                patience=100,\n",
    "                mode=\"max\"\n",
    "            )]\n",
    "        )\n",
    "        trainer.fit(model, loaders[0], loaders[1:])\n",
    "\n",
    "        # dataframe store\n",
    "        for idx, name in enumerate([\n",
    "            \"seen_mnist\", \"unseen_mnist\", \"unseen_fashion_mnist\"\n",
    "        ]):\n",
    "            seq_acc, last_acc = seq_accuracy(model, loaders[idx+1])\n",
    "            if n_tasks in n_tasks_for_full_check:\n",
    "                prefix = f\"experiments/{seq_res_output}_{n_tasks}\"\n",
    "                np.save(prefix+\"_\"+name, seq_acc)\n",
    "            entry = {\n",
    "                \"n_tasks\": n_tasks, \"dataset\": name,\n",
    "                \"last_acc\": last_acc.item(),\n",
    "            }\n",
    "            logs.append(entry)\n",
    "            pd.DataFrame(logs).to_csv(f\"experiments/{output_csv}\", index=0)\n",
    "        clear_output(True)"
   ]
  },
  {
   "cell_type": "markdown",
   "metadata": {},
   "source": [
    "Сначала запустить для MNIST, потом для FashionMNIST, вот и вся задача. Самое сложное - дождаться"
   ]
  },
  {
   "cell_type": "code",
   "execution_count": null,
   "metadata": {},
   "outputs": [],
   "source": [
    "mnist_train = SubLoader(MNIST('./datasets', train=True, transform=g_transform)) \n",
    "train_for_sequence_improvement(mnist_train)"
   ]
  },
  {
   "cell_type": "code",
   "execution_count": null,
   "metadata": {},
   "outputs": [],
   "source": [
    "mnist_train = SubLoader(FashionMNIST('./datasets', train=True, transform=g_transform)) \n",
    "train_for_sequence_improvement(\n",
    "    train_dataset=mnist_train,\n",
    "    n_tasks_list=[2**16]\n",
    ")"
   ]
  },
  {
   "cell_type": "markdown",
   "metadata": {},
   "source": [
    "#### Интерпретация\n",
    "\n",
    "Теперь будем строить графики по порядку"
   ]
  },
  {
   "cell_type": "code",
   "execution_count": 10,
   "metadata": {},
   "outputs": [],
   "source": [
    "import pandas as pd\n",
    "\n",
    "set_mapper = {\n",
    "    \"seen_mnist\": \"Seen MNIST\",\n",
    "    \"unseen_mnist\": \"Unseen MNIST\",\n",
    "    \"unseen_fashion_mnist\": \"Unseen FashionMNIST\"\n",
    "}\n",
    "df = pd.read_csv(\"experiments/last_acc.csv\")\n",
    "df[\"dataset\"] = df.dataset.map(set_mapper)"
   ]
  },
  {
   "cell_type": "code",
   "execution_count": 11,
   "metadata": {},
   "outputs": [
    {
     "data": {
      "application/vnd.plotly.v1+json": {
       "config": {
        "plotlyServerURL": "https://plot.ly"
       },
       "data": [
        {
         "hovertemplate": "dataset=Seen MNIST<br>n_tasks=%{x}<br>last_acc=%{y}<extra></extra>",
         "legendgroup": "Seen MNIST",
         "line": {
          "color": "crimson",
          "dash": "solid"
         },
         "marker": {
          "symbol": "circle"
         },
         "mode": "lines",
         "name": "Seen MNIST",
         "orientation": "v",
         "showlegend": true,
         "type": "scatter",
         "x": [
          1,
          2,
          4,
          8,
          16,
          32,
          64,
          128,
          256,
          512,
          1024,
          2048,
          4096,
          8192,
          16384,
          32768,
          65536,
          131072
         ],
         "xaxis": "x",
         "y": [
          0.0078125,
          -0.01953125,
          0.0078125,
          -0.01953125,
          0.0078125,
          0,
          0.0078125,
          -0.0078125,
          0.0078125,
          -0.00390625,
          0,
          0.01953125,
          0.046875,
          0.16015625,
          0.5234375,
          0.4765625,
          0.56640625,
          0.5234375
         ],
         "yaxis": "y"
        },
        {
         "hovertemplate": "dataset=Unseen MNIST<br>n_tasks=%{x}<br>last_acc=%{y}<extra></extra>",
         "legendgroup": "Unseen MNIST",
         "line": {
          "color": "midnightblue",
          "dash": "solid"
         },
         "marker": {
          "symbol": "circle"
         },
         "mode": "lines",
         "name": "Unseen MNIST",
         "orientation": "v",
         "showlegend": true,
         "type": "scatter",
         "x": [
          1,
          2,
          4,
          8,
          16,
          32,
          64,
          128,
          256,
          512,
          1024,
          2048,
          4096,
          8192,
          16384,
          32768,
          65536,
          131072
         ],
         "xaxis": "x",
         "y": [
          0.00390625,
          0.0390625,
          0.0234375,
          0.0078125,
          0.00390625,
          -0.00390625,
          -0.02734375,
          -0.03125,
          0.02734375,
          0.00390625,
          0.00390625,
          0.046875,
          0.0078125,
          -0.05078125,
          0.41796875,
          0.5,
          0.53125,
          0.41015625
         ],
         "yaxis": "y"
        },
        {
         "hovertemplate": "dataset=Unseen FashionMNIST<br>n_tasks=%{x}<br>last_acc=%{y}<extra></extra>",
         "legendgroup": "Unseen FashionMNIST",
         "line": {
          "color": "goldenrod",
          "dash": "solid"
         },
         "marker": {
          "symbol": "circle"
         },
         "mode": "lines",
         "name": "Unseen FashionMNIST",
         "orientation": "v",
         "showlegend": true,
         "type": "scatter",
         "x": [
          1,
          2,
          4,
          8,
          16,
          32,
          64,
          128,
          256,
          512,
          1024,
          2048,
          4096,
          8192,
          16384,
          32768,
          65536,
          131072
         ],
         "xaxis": "x",
         "y": [
          -0.0390625,
          -0.01953125,
          0.015625,
          0.01171875,
          0.01953125,
          0.00390625,
          0.01171875,
          -0.05078125,
          0,
          -0.03515625,
          -0.02734375,
          0.0078125,
          -0.0078125,
          -0.03125,
          0.37890625,
          0.4609375,
          0.4609375,
          0.48046875
         ],
         "yaxis": "y"
        }
       ],
       "layout": {
        "annotations": [
         {
          "showarrow": false,
          "text": "Instance memorization",
          "x": 10,
          "xanchor": "right",
          "xref": "x",
          "y": 1,
          "yanchor": "top",
          "yref": "y domain"
         },
         {
          "showarrow": false,
          "text": "Task memorization",
          "x": 14,
          "xanchor": "right",
          "xref": "x",
          "y": 1,
          "yanchor": "top",
          "yref": "y domain"
         },
         {
          "showarrow": false,
          "text": "Learning to learn",
          "x": 14,
          "xanchor": "left",
          "xref": "x",
          "y": 1,
          "yanchor": "top",
          "yref": "y domain"
         }
        ],
        "height": 500,
        "legend": {
         "bgcolor": "white",
         "bordercolor": "Black",
         "borderwidth": 2,
         "title": {
          "text": "Dataset"
         },
         "tracegroupgap": 0,
         "x": 0.1,
         "y": 0.8
        },
        "margin": {
         "t": 60
        },
        "shapes": [
         {
          "fillcolor": "gold",
          "label": {
           "font": {
            "size": 12
           }
          },
          "line": {
           "width": 0
          },
          "opacity": 0.05,
          "type": "rect",
          "x0": 0,
          "x1": 10,
          "xref": "x",
          "y0": 0,
          "y1": 1,
          "yref": "y domain"
         },
         {
          "fillcolor": "blue",
          "label": {
           "font": {
            "size": 12
           }
          },
          "line": {
           "width": 0
          },
          "opacity": 0.05,
          "type": "rect",
          "x0": 10,
          "x1": 14,
          "xref": "x",
          "y0": 0,
          "y1": 1,
          "yref": "y domain"
         },
         {
          "fillcolor": "red",
          "label": {
           "font": {
            "size": 12
           }
          },
          "line": {
           "width": 0
          },
          "opacity": 0.05,
          "type": "rect",
          "x0": 14,
          "x1": 18,
          "xref": "x",
          "y0": 0,
          "y1": 1,
          "yref": "y domain"
         }
        ],
        "template": {
         "data": {
          "bar": [
           {
            "error_x": {
             "color": "#2a3f5f"
            },
            "error_y": {
             "color": "#2a3f5f"
            },
            "marker": {
             "line": {
              "color": "#E5ECF6",
              "width": 0.5
             },
             "pattern": {
              "fillmode": "overlay",
              "size": 10,
              "solidity": 0.2
             }
            },
            "type": "bar"
           }
          ],
          "barpolar": [
           {
            "marker": {
             "line": {
              "color": "#E5ECF6",
              "width": 0.5
             },
             "pattern": {
              "fillmode": "overlay",
              "size": 10,
              "solidity": 0.2
             }
            },
            "type": "barpolar"
           }
          ],
          "carpet": [
           {
            "aaxis": {
             "endlinecolor": "#2a3f5f",
             "gridcolor": "white",
             "linecolor": "white",
             "minorgridcolor": "white",
             "startlinecolor": "#2a3f5f"
            },
            "baxis": {
             "endlinecolor": "#2a3f5f",
             "gridcolor": "white",
             "linecolor": "white",
             "minorgridcolor": "white",
             "startlinecolor": "#2a3f5f"
            },
            "type": "carpet"
           }
          ],
          "choropleth": [
           {
            "colorbar": {
             "outlinewidth": 0,
             "ticks": ""
            },
            "type": "choropleth"
           }
          ],
          "contour": [
           {
            "colorbar": {
             "outlinewidth": 0,
             "ticks": ""
            },
            "colorscale": [
             [
              0,
              "#0d0887"
             ],
             [
              0.1111111111111111,
              "#46039f"
             ],
             [
              0.2222222222222222,
              "#7201a8"
             ],
             [
              0.3333333333333333,
              "#9c179e"
             ],
             [
              0.4444444444444444,
              "#bd3786"
             ],
             [
              0.5555555555555556,
              "#d8576b"
             ],
             [
              0.6666666666666666,
              "#ed7953"
             ],
             [
              0.7777777777777778,
              "#fb9f3a"
             ],
             [
              0.8888888888888888,
              "#fdca26"
             ],
             [
              1,
              "#f0f921"
             ]
            ],
            "type": "contour"
           }
          ],
          "contourcarpet": [
           {
            "colorbar": {
             "outlinewidth": 0,
             "ticks": ""
            },
            "type": "contourcarpet"
           }
          ],
          "heatmap": [
           {
            "colorbar": {
             "outlinewidth": 0,
             "ticks": ""
            },
            "colorscale": [
             [
              0,
              "#0d0887"
             ],
             [
              0.1111111111111111,
              "#46039f"
             ],
             [
              0.2222222222222222,
              "#7201a8"
             ],
             [
              0.3333333333333333,
              "#9c179e"
             ],
             [
              0.4444444444444444,
              "#bd3786"
             ],
             [
              0.5555555555555556,
              "#d8576b"
             ],
             [
              0.6666666666666666,
              "#ed7953"
             ],
             [
              0.7777777777777778,
              "#fb9f3a"
             ],
             [
              0.8888888888888888,
              "#fdca26"
             ],
             [
              1,
              "#f0f921"
             ]
            ],
            "type": "heatmap"
           }
          ],
          "heatmapgl": [
           {
            "colorbar": {
             "outlinewidth": 0,
             "ticks": ""
            },
            "colorscale": [
             [
              0,
              "#0d0887"
             ],
             [
              0.1111111111111111,
              "#46039f"
             ],
             [
              0.2222222222222222,
              "#7201a8"
             ],
             [
              0.3333333333333333,
              "#9c179e"
             ],
             [
              0.4444444444444444,
              "#bd3786"
             ],
             [
              0.5555555555555556,
              "#d8576b"
             ],
             [
              0.6666666666666666,
              "#ed7953"
             ],
             [
              0.7777777777777778,
              "#fb9f3a"
             ],
             [
              0.8888888888888888,
              "#fdca26"
             ],
             [
              1,
              "#f0f921"
             ]
            ],
            "type": "heatmapgl"
           }
          ],
          "histogram": [
           {
            "marker": {
             "pattern": {
              "fillmode": "overlay",
              "size": 10,
              "solidity": 0.2
             }
            },
            "type": "histogram"
           }
          ],
          "histogram2d": [
           {
            "colorbar": {
             "outlinewidth": 0,
             "ticks": ""
            },
            "colorscale": [
             [
              0,
              "#0d0887"
             ],
             [
              0.1111111111111111,
              "#46039f"
             ],
             [
              0.2222222222222222,
              "#7201a8"
             ],
             [
              0.3333333333333333,
              "#9c179e"
             ],
             [
              0.4444444444444444,
              "#bd3786"
             ],
             [
              0.5555555555555556,
              "#d8576b"
             ],
             [
              0.6666666666666666,
              "#ed7953"
             ],
             [
              0.7777777777777778,
              "#fb9f3a"
             ],
             [
              0.8888888888888888,
              "#fdca26"
             ],
             [
              1,
              "#f0f921"
             ]
            ],
            "type": "histogram2d"
           }
          ],
          "histogram2dcontour": [
           {
            "colorbar": {
             "outlinewidth": 0,
             "ticks": ""
            },
            "colorscale": [
             [
              0,
              "#0d0887"
             ],
             [
              0.1111111111111111,
              "#46039f"
             ],
             [
              0.2222222222222222,
              "#7201a8"
             ],
             [
              0.3333333333333333,
              "#9c179e"
             ],
             [
              0.4444444444444444,
              "#bd3786"
             ],
             [
              0.5555555555555556,
              "#d8576b"
             ],
             [
              0.6666666666666666,
              "#ed7953"
             ],
             [
              0.7777777777777778,
              "#fb9f3a"
             ],
             [
              0.8888888888888888,
              "#fdca26"
             ],
             [
              1,
              "#f0f921"
             ]
            ],
            "type": "histogram2dcontour"
           }
          ],
          "mesh3d": [
           {
            "colorbar": {
             "outlinewidth": 0,
             "ticks": ""
            },
            "type": "mesh3d"
           }
          ],
          "parcoords": [
           {
            "line": {
             "colorbar": {
              "outlinewidth": 0,
              "ticks": ""
             }
            },
            "type": "parcoords"
           }
          ],
          "pie": [
           {
            "automargin": true,
            "type": "pie"
           }
          ],
          "scatter": [
           {
            "fillpattern": {
             "fillmode": "overlay",
             "size": 10,
             "solidity": 0.2
            },
            "type": "scatter"
           }
          ],
          "scatter3d": [
           {
            "line": {
             "colorbar": {
              "outlinewidth": 0,
              "ticks": ""
             }
            },
            "marker": {
             "colorbar": {
              "outlinewidth": 0,
              "ticks": ""
             }
            },
            "type": "scatter3d"
           }
          ],
          "scattercarpet": [
           {
            "marker": {
             "colorbar": {
              "outlinewidth": 0,
              "ticks": ""
             }
            },
            "type": "scattercarpet"
           }
          ],
          "scattergeo": [
           {
            "marker": {
             "colorbar": {
              "outlinewidth": 0,
              "ticks": ""
             }
            },
            "type": "scattergeo"
           }
          ],
          "scattergl": [
           {
            "marker": {
             "colorbar": {
              "outlinewidth": 0,
              "ticks": ""
             }
            },
            "type": "scattergl"
           }
          ],
          "scattermapbox": [
           {
            "marker": {
             "colorbar": {
              "outlinewidth": 0,
              "ticks": ""
             }
            },
            "type": "scattermapbox"
           }
          ],
          "scatterpolar": [
           {
            "marker": {
             "colorbar": {
              "outlinewidth": 0,
              "ticks": ""
             }
            },
            "type": "scatterpolar"
           }
          ],
          "scatterpolargl": [
           {
            "marker": {
             "colorbar": {
              "outlinewidth": 0,
              "ticks": ""
             }
            },
            "type": "scatterpolargl"
           }
          ],
          "scatterternary": [
           {
            "marker": {
             "colorbar": {
              "outlinewidth": 0,
              "ticks": ""
             }
            },
            "type": "scatterternary"
           }
          ],
          "surface": [
           {
            "colorbar": {
             "outlinewidth": 0,
             "ticks": ""
            },
            "colorscale": [
             [
              0,
              "#0d0887"
             ],
             [
              0.1111111111111111,
              "#46039f"
             ],
             [
              0.2222222222222222,
              "#7201a8"
             ],
             [
              0.3333333333333333,
              "#9c179e"
             ],
             [
              0.4444444444444444,
              "#bd3786"
             ],
             [
              0.5555555555555556,
              "#d8576b"
             ],
             [
              0.6666666666666666,
              "#ed7953"
             ],
             [
              0.7777777777777778,
              "#fb9f3a"
             ],
             [
              0.8888888888888888,
              "#fdca26"
             ],
             [
              1,
              "#f0f921"
             ]
            ],
            "type": "surface"
           }
          ],
          "table": [
           {
            "cells": {
             "fill": {
              "color": "#EBF0F8"
             },
             "line": {
              "color": "white"
             }
            },
            "header": {
             "fill": {
              "color": "#C8D4E3"
             },
             "line": {
              "color": "white"
             }
            },
            "type": "table"
           }
          ]
         },
         "layout": {
          "annotationdefaults": {
           "arrowcolor": "#2a3f5f",
           "arrowhead": 0,
           "arrowwidth": 1
          },
          "autotypenumbers": "strict",
          "coloraxis": {
           "colorbar": {
            "outlinewidth": 0,
            "ticks": ""
           }
          },
          "colorscale": {
           "diverging": [
            [
             0,
             "#8e0152"
            ],
            [
             0.1,
             "#c51b7d"
            ],
            [
             0.2,
             "#de77ae"
            ],
            [
             0.3,
             "#f1b6da"
            ],
            [
             0.4,
             "#fde0ef"
            ],
            [
             0.5,
             "#f7f7f7"
            ],
            [
             0.6,
             "#e6f5d0"
            ],
            [
             0.7,
             "#b8e186"
            ],
            [
             0.8,
             "#7fbc41"
            ],
            [
             0.9,
             "#4d9221"
            ],
            [
             1,
             "#276419"
            ]
           ],
           "sequential": [
            [
             0,
             "#0d0887"
            ],
            [
             0.1111111111111111,
             "#46039f"
            ],
            [
             0.2222222222222222,
             "#7201a8"
            ],
            [
             0.3333333333333333,
             "#9c179e"
            ],
            [
             0.4444444444444444,
             "#bd3786"
            ],
            [
             0.5555555555555556,
             "#d8576b"
            ],
            [
             0.6666666666666666,
             "#ed7953"
            ],
            [
             0.7777777777777778,
             "#fb9f3a"
            ],
            [
             0.8888888888888888,
             "#fdca26"
            ],
            [
             1,
             "#f0f921"
            ]
           ],
           "sequentialminus": [
            [
             0,
             "#0d0887"
            ],
            [
             0.1111111111111111,
             "#46039f"
            ],
            [
             0.2222222222222222,
             "#7201a8"
            ],
            [
             0.3333333333333333,
             "#9c179e"
            ],
            [
             0.4444444444444444,
             "#bd3786"
            ],
            [
             0.5555555555555556,
             "#d8576b"
            ],
            [
             0.6666666666666666,
             "#ed7953"
            ],
            [
             0.7777777777777778,
             "#fb9f3a"
            ],
            [
             0.8888888888888888,
             "#fdca26"
            ],
            [
             1,
             "#f0f921"
            ]
           ]
          },
          "colorway": [
           "#636efa",
           "#EF553B",
           "#00cc96",
           "#ab63fa",
           "#FFA15A",
           "#19d3f3",
           "#FF6692",
           "#B6E880",
           "#FF97FF",
           "#FECB52"
          ],
          "font": {
           "color": "#2a3f5f"
          },
          "geo": {
           "bgcolor": "white",
           "lakecolor": "white",
           "landcolor": "#E5ECF6",
           "showlakes": true,
           "showland": true,
           "subunitcolor": "white"
          },
          "hoverlabel": {
           "align": "left"
          },
          "hovermode": "closest",
          "mapbox": {
           "style": "light"
          },
          "paper_bgcolor": "white",
          "plot_bgcolor": "#E5ECF6",
          "polar": {
           "angularaxis": {
            "gridcolor": "white",
            "linecolor": "white",
            "ticks": ""
           },
           "bgcolor": "#E5ECF6",
           "radialaxis": {
            "gridcolor": "white",
            "linecolor": "white",
            "ticks": ""
           }
          },
          "scene": {
           "xaxis": {
            "backgroundcolor": "#E5ECF6",
            "gridcolor": "white",
            "gridwidth": 2,
            "linecolor": "white",
            "showbackground": true,
            "ticks": "",
            "zerolinecolor": "white"
           },
           "yaxis": {
            "backgroundcolor": "#E5ECF6",
            "gridcolor": "white",
            "gridwidth": 2,
            "linecolor": "white",
            "showbackground": true,
            "ticks": "",
            "zerolinecolor": "white"
           },
           "zaxis": {
            "backgroundcolor": "#E5ECF6",
            "gridcolor": "white",
            "gridwidth": 2,
            "linecolor": "white",
            "showbackground": true,
            "ticks": "",
            "zerolinecolor": "white"
           }
          },
          "shapedefaults": {
           "line": {
            "color": "#2a3f5f"
           }
          },
          "ternary": {
           "aaxis": {
            "gridcolor": "white",
            "linecolor": "white",
            "ticks": ""
           },
           "baxis": {
            "gridcolor": "white",
            "linecolor": "white",
            "ticks": ""
           },
           "bgcolor": "#E5ECF6",
           "caxis": {
            "gridcolor": "white",
            "linecolor": "white",
            "ticks": ""
           }
          },
          "title": {
           "x": 0.05
          },
          "xaxis": {
           "automargin": true,
           "gridcolor": "white",
           "linecolor": "white",
           "ticks": "",
           "title": {
            "standoff": 15
           },
           "zerolinecolor": "white",
           "zerolinewidth": 2
          },
          "yaxis": {
           "automargin": true,
           "gridcolor": "white",
           "linecolor": "white",
           "ticks": "",
           "title": {
            "standoff": 15
           },
           "zerolinecolor": "white",
           "zerolinewidth": 2
          }
         }
        },
        "title": {
         "text": "Ability to learn per number of tasks"
        },
        "width": 725,
        "xaxis": {
         "anchor": "y",
         "autorange": true,
         "domain": [
          0,
          1
         ],
         "range": [
          0,
          18
         ],
         "ticktext": [
          "$2^{0}$",
          "$2^{0}$",
          "$2^{0}$",
          "$2^{1}$",
          "$2^{1}$",
          "$2^{1}$",
          "$2^{2}$",
          "$2^{2}$",
          "$2^{2}$",
          "$2^{3}$",
          "$2^{3}$",
          "$2^{3}$",
          "$2^{4}$",
          "$2^{4}$",
          "$2^{4}$",
          "$2^{5}$",
          "$2^{5}$",
          "$2^{5}$",
          "$2^{6}$",
          "$2^{6}$",
          "$2^{6}$",
          "$2^{7}$",
          "$2^{7}$",
          "$2^{7}$",
          "$2^{8}$",
          "$2^{8}$",
          "$2^{8}$",
          "$2^{9}$",
          "$2^{9}$",
          "$2^{9}$",
          "$2^{10}$",
          "$2^{10}$",
          "$2^{10}$",
          "$2^{11}$",
          "$2^{11}$",
          "$2^{11}$",
          "$2^{12}$",
          "$2^{12}$",
          "$2^{12}$",
          "$2^{13}$",
          "$2^{13}$",
          "$2^{13}$",
          "$2^{14}$",
          "$2^{14}$",
          "$2^{14}$",
          "$2^{15}$",
          "$2^{15}$",
          "$2^{15}$",
          "$2^{16}$",
          "$2^{16}$",
          "$2^{16}$",
          "$2^{17}$",
          "$2^{17}$",
          "$2^{17}$"
         ],
         "tickvals": [
          1,
          1,
          1,
          2,
          2,
          2,
          4,
          4,
          4,
          8,
          8,
          8,
          16,
          16,
          16,
          32,
          32,
          32,
          64,
          64,
          64,
          128,
          128,
          128,
          256,
          256,
          256,
          512,
          512,
          512,
          1024,
          1024,
          1024,
          2048,
          2048,
          2048,
          4096,
          4096,
          4096,
          8192,
          8192,
          8192,
          16384,
          16384,
          16384,
          32768,
          32768,
          32768,
          65536,
          65536,
          65536,
          131072,
          131072,
          131072
         ],
         "title": {
          "text": "Number of tasks"
         },
         "type": "category"
        },
        "yaxis": {
         "anchor": "x",
         "autorange": true,
         "domain": [
          0,
          1
         ],
         "range": [
          -0.08506944444444445,
          0.6006944444444444
         ],
         "title": {
          "text": "Accuracy improvement in sequence"
         },
         "type": "linear"
        }
       }
      },
      "text/html": [
       "<div>                            <div id=\"339292ec-d18f-45db-ae6d-b76953924687\" class=\"plotly-graph-div\" style=\"height:500px; width:725px;\"></div>            <script type=\"text/javascript\">                require([\"plotly\"], function(Plotly) {                    window.PLOTLYENV=window.PLOTLYENV || {};                                    if (document.getElementById(\"339292ec-d18f-45db-ae6d-b76953924687\")) {                    Plotly.newPlot(                        \"339292ec-d18f-45db-ae6d-b76953924687\",                        [{\"hovertemplate\":\"dataset=Seen MNIST\\u003cbr\\u003en_tasks=%{x}\\u003cbr\\u003elast_acc=%{y}\\u003cextra\\u003e\\u003c\\u002fextra\\u003e\",\"legendgroup\":\"Seen MNIST\",\"line\":{\"color\":\"crimson\",\"dash\":\"solid\"},\"marker\":{\"symbol\":\"circle\"},\"mode\":\"lines\",\"name\":\"Seen MNIST\",\"orientation\":\"v\",\"showlegend\":true,\"x\":[1,2,4,8,16,32,64,128,256,512,1024,2048,4096,8192,16384,32768,65536,131072],\"xaxis\":\"x\",\"y\":[0.0078125,-0.01953125,0.0078125,-0.01953125,0.0078125,0.0,0.0078125,-0.0078125,0.0078125,-0.00390625,0.0,0.01953125,0.046875,0.16015625,0.5234375,0.4765625,0.56640625,0.5234375],\"yaxis\":\"y\",\"type\":\"scatter\"},{\"hovertemplate\":\"dataset=Unseen MNIST\\u003cbr\\u003en_tasks=%{x}\\u003cbr\\u003elast_acc=%{y}\\u003cextra\\u003e\\u003c\\u002fextra\\u003e\",\"legendgroup\":\"Unseen MNIST\",\"line\":{\"color\":\"midnightblue\",\"dash\":\"solid\"},\"marker\":{\"symbol\":\"circle\"},\"mode\":\"lines\",\"name\":\"Unseen MNIST\",\"orientation\":\"v\",\"showlegend\":true,\"x\":[1,2,4,8,16,32,64,128,256,512,1024,2048,4096,8192,16384,32768,65536,131072],\"xaxis\":\"x\",\"y\":[0.00390625,0.0390625,0.0234375,0.0078125,0.00390625,-0.00390625,-0.02734375,-0.03125,0.02734375,0.00390625,0.00390625,0.046875,0.0078125,-0.05078125,0.41796875,0.5,0.53125,0.41015625],\"yaxis\":\"y\",\"type\":\"scatter\"},{\"hovertemplate\":\"dataset=Unseen FashionMNIST\\u003cbr\\u003en_tasks=%{x}\\u003cbr\\u003elast_acc=%{y}\\u003cextra\\u003e\\u003c\\u002fextra\\u003e\",\"legendgroup\":\"Unseen FashionMNIST\",\"line\":{\"color\":\"goldenrod\",\"dash\":\"solid\"},\"marker\":{\"symbol\":\"circle\"},\"mode\":\"lines\",\"name\":\"Unseen FashionMNIST\",\"orientation\":\"v\",\"showlegend\":true,\"x\":[1,2,4,8,16,32,64,128,256,512,1024,2048,4096,8192,16384,32768,65536,131072],\"xaxis\":\"x\",\"y\":[-0.0390625,-0.01953125,0.015625,0.01171875,0.01953125,0.00390625,0.01171875,-0.05078125,0.0,-0.03515625,-0.02734375,0.0078125,-0.0078125,-0.03125,0.37890625,0.4609375,0.4609375,0.48046875],\"yaxis\":\"y\",\"type\":\"scatter\"}],                        {\"template\":{\"data\":{\"histogram2dcontour\":[{\"type\":\"histogram2dcontour\",\"colorbar\":{\"outlinewidth\":0,\"ticks\":\"\"},\"colorscale\":[[0.0,\"#0d0887\"],[0.1111111111111111,\"#46039f\"],[0.2222222222222222,\"#7201a8\"],[0.3333333333333333,\"#9c179e\"],[0.4444444444444444,\"#bd3786\"],[0.5555555555555556,\"#d8576b\"],[0.6666666666666666,\"#ed7953\"],[0.7777777777777778,\"#fb9f3a\"],[0.8888888888888888,\"#fdca26\"],[1.0,\"#f0f921\"]]}],\"choropleth\":[{\"type\":\"choropleth\",\"colorbar\":{\"outlinewidth\":0,\"ticks\":\"\"}}],\"histogram2d\":[{\"type\":\"histogram2d\",\"colorbar\":{\"outlinewidth\":0,\"ticks\":\"\"},\"colorscale\":[[0.0,\"#0d0887\"],[0.1111111111111111,\"#46039f\"],[0.2222222222222222,\"#7201a8\"],[0.3333333333333333,\"#9c179e\"],[0.4444444444444444,\"#bd3786\"],[0.5555555555555556,\"#d8576b\"],[0.6666666666666666,\"#ed7953\"],[0.7777777777777778,\"#fb9f3a\"],[0.8888888888888888,\"#fdca26\"],[1.0,\"#f0f921\"]]}],\"heatmap\":[{\"type\":\"heatmap\",\"colorbar\":{\"outlinewidth\":0,\"ticks\":\"\"},\"colorscale\":[[0.0,\"#0d0887\"],[0.1111111111111111,\"#46039f\"],[0.2222222222222222,\"#7201a8\"],[0.3333333333333333,\"#9c179e\"],[0.4444444444444444,\"#bd3786\"],[0.5555555555555556,\"#d8576b\"],[0.6666666666666666,\"#ed7953\"],[0.7777777777777778,\"#fb9f3a\"],[0.8888888888888888,\"#fdca26\"],[1.0,\"#f0f921\"]]}],\"heatmapgl\":[{\"type\":\"heatmapgl\",\"colorbar\":{\"outlinewidth\":0,\"ticks\":\"\"},\"colorscale\":[[0.0,\"#0d0887\"],[0.1111111111111111,\"#46039f\"],[0.2222222222222222,\"#7201a8\"],[0.3333333333333333,\"#9c179e\"],[0.4444444444444444,\"#bd3786\"],[0.5555555555555556,\"#d8576b\"],[0.6666666666666666,\"#ed7953\"],[0.7777777777777778,\"#fb9f3a\"],[0.8888888888888888,\"#fdca26\"],[1.0,\"#f0f921\"]]}],\"contourcarpet\":[{\"type\":\"contourcarpet\",\"colorbar\":{\"outlinewidth\":0,\"ticks\":\"\"}}],\"contour\":[{\"type\":\"contour\",\"colorbar\":{\"outlinewidth\":0,\"ticks\":\"\"},\"colorscale\":[[0.0,\"#0d0887\"],[0.1111111111111111,\"#46039f\"],[0.2222222222222222,\"#7201a8\"],[0.3333333333333333,\"#9c179e\"],[0.4444444444444444,\"#bd3786\"],[0.5555555555555556,\"#d8576b\"],[0.6666666666666666,\"#ed7953\"],[0.7777777777777778,\"#fb9f3a\"],[0.8888888888888888,\"#fdca26\"],[1.0,\"#f0f921\"]]}],\"surface\":[{\"type\":\"surface\",\"colorbar\":{\"outlinewidth\":0,\"ticks\":\"\"},\"colorscale\":[[0.0,\"#0d0887\"],[0.1111111111111111,\"#46039f\"],[0.2222222222222222,\"#7201a8\"],[0.3333333333333333,\"#9c179e\"],[0.4444444444444444,\"#bd3786\"],[0.5555555555555556,\"#d8576b\"],[0.6666666666666666,\"#ed7953\"],[0.7777777777777778,\"#fb9f3a\"],[0.8888888888888888,\"#fdca26\"],[1.0,\"#f0f921\"]]}],\"mesh3d\":[{\"type\":\"mesh3d\",\"colorbar\":{\"outlinewidth\":0,\"ticks\":\"\"}}],\"scatter\":[{\"fillpattern\":{\"fillmode\":\"overlay\",\"size\":10,\"solidity\":0.2},\"type\":\"scatter\"}],\"parcoords\":[{\"type\":\"parcoords\",\"line\":{\"colorbar\":{\"outlinewidth\":0,\"ticks\":\"\"}}}],\"scatterpolargl\":[{\"type\":\"scatterpolargl\",\"marker\":{\"colorbar\":{\"outlinewidth\":0,\"ticks\":\"\"}}}],\"bar\":[{\"error_x\":{\"color\":\"#2a3f5f\"},\"error_y\":{\"color\":\"#2a3f5f\"},\"marker\":{\"line\":{\"color\":\"#E5ECF6\",\"width\":0.5},\"pattern\":{\"fillmode\":\"overlay\",\"size\":10,\"solidity\":0.2}},\"type\":\"bar\"}],\"scattergeo\":[{\"type\":\"scattergeo\",\"marker\":{\"colorbar\":{\"outlinewidth\":0,\"ticks\":\"\"}}}],\"scatterpolar\":[{\"type\":\"scatterpolar\",\"marker\":{\"colorbar\":{\"outlinewidth\":0,\"ticks\":\"\"}}}],\"histogram\":[{\"marker\":{\"pattern\":{\"fillmode\":\"overlay\",\"size\":10,\"solidity\":0.2}},\"type\":\"histogram\"}],\"scattergl\":[{\"type\":\"scattergl\",\"marker\":{\"colorbar\":{\"outlinewidth\":0,\"ticks\":\"\"}}}],\"scatter3d\":[{\"type\":\"scatter3d\",\"line\":{\"colorbar\":{\"outlinewidth\":0,\"ticks\":\"\"}},\"marker\":{\"colorbar\":{\"outlinewidth\":0,\"ticks\":\"\"}}}],\"scattermapbox\":[{\"type\":\"scattermapbox\",\"marker\":{\"colorbar\":{\"outlinewidth\":0,\"ticks\":\"\"}}}],\"scatterternary\":[{\"type\":\"scatterternary\",\"marker\":{\"colorbar\":{\"outlinewidth\":0,\"ticks\":\"\"}}}],\"scattercarpet\":[{\"type\":\"scattercarpet\",\"marker\":{\"colorbar\":{\"outlinewidth\":0,\"ticks\":\"\"}}}],\"carpet\":[{\"aaxis\":{\"endlinecolor\":\"#2a3f5f\",\"gridcolor\":\"white\",\"linecolor\":\"white\",\"minorgridcolor\":\"white\",\"startlinecolor\":\"#2a3f5f\"},\"baxis\":{\"endlinecolor\":\"#2a3f5f\",\"gridcolor\":\"white\",\"linecolor\":\"white\",\"minorgridcolor\":\"white\",\"startlinecolor\":\"#2a3f5f\"},\"type\":\"carpet\"}],\"table\":[{\"cells\":{\"fill\":{\"color\":\"#EBF0F8\"},\"line\":{\"color\":\"white\"}},\"header\":{\"fill\":{\"color\":\"#C8D4E3\"},\"line\":{\"color\":\"white\"}},\"type\":\"table\"}],\"barpolar\":[{\"marker\":{\"line\":{\"color\":\"#E5ECF6\",\"width\":0.5},\"pattern\":{\"fillmode\":\"overlay\",\"size\":10,\"solidity\":0.2}},\"type\":\"barpolar\"}],\"pie\":[{\"automargin\":true,\"type\":\"pie\"}]},\"layout\":{\"autotypenumbers\":\"strict\",\"colorway\":[\"#636efa\",\"#EF553B\",\"#00cc96\",\"#ab63fa\",\"#FFA15A\",\"#19d3f3\",\"#FF6692\",\"#B6E880\",\"#FF97FF\",\"#FECB52\"],\"font\":{\"color\":\"#2a3f5f\"},\"hovermode\":\"closest\",\"hoverlabel\":{\"align\":\"left\"},\"paper_bgcolor\":\"white\",\"plot_bgcolor\":\"#E5ECF6\",\"polar\":{\"bgcolor\":\"#E5ECF6\",\"angularaxis\":{\"gridcolor\":\"white\",\"linecolor\":\"white\",\"ticks\":\"\"},\"radialaxis\":{\"gridcolor\":\"white\",\"linecolor\":\"white\",\"ticks\":\"\"}},\"ternary\":{\"bgcolor\":\"#E5ECF6\",\"aaxis\":{\"gridcolor\":\"white\",\"linecolor\":\"white\",\"ticks\":\"\"},\"baxis\":{\"gridcolor\":\"white\",\"linecolor\":\"white\",\"ticks\":\"\"},\"caxis\":{\"gridcolor\":\"white\",\"linecolor\":\"white\",\"ticks\":\"\"}},\"coloraxis\":{\"colorbar\":{\"outlinewidth\":0,\"ticks\":\"\"}},\"colorscale\":{\"sequential\":[[0.0,\"#0d0887\"],[0.1111111111111111,\"#46039f\"],[0.2222222222222222,\"#7201a8\"],[0.3333333333333333,\"#9c179e\"],[0.4444444444444444,\"#bd3786\"],[0.5555555555555556,\"#d8576b\"],[0.6666666666666666,\"#ed7953\"],[0.7777777777777778,\"#fb9f3a\"],[0.8888888888888888,\"#fdca26\"],[1.0,\"#f0f921\"]],\"sequentialminus\":[[0.0,\"#0d0887\"],[0.1111111111111111,\"#46039f\"],[0.2222222222222222,\"#7201a8\"],[0.3333333333333333,\"#9c179e\"],[0.4444444444444444,\"#bd3786\"],[0.5555555555555556,\"#d8576b\"],[0.6666666666666666,\"#ed7953\"],[0.7777777777777778,\"#fb9f3a\"],[0.8888888888888888,\"#fdca26\"],[1.0,\"#f0f921\"]],\"diverging\":[[0,\"#8e0152\"],[0.1,\"#c51b7d\"],[0.2,\"#de77ae\"],[0.3,\"#f1b6da\"],[0.4,\"#fde0ef\"],[0.5,\"#f7f7f7\"],[0.6,\"#e6f5d0\"],[0.7,\"#b8e186\"],[0.8,\"#7fbc41\"],[0.9,\"#4d9221\"],[1,\"#276419\"]]},\"xaxis\":{\"gridcolor\":\"white\",\"linecolor\":\"white\",\"ticks\":\"\",\"title\":{\"standoff\":15},\"zerolinecolor\":\"white\",\"automargin\":true,\"zerolinewidth\":2},\"yaxis\":{\"gridcolor\":\"white\",\"linecolor\":\"white\",\"ticks\":\"\",\"title\":{\"standoff\":15},\"zerolinecolor\":\"white\",\"automargin\":true,\"zerolinewidth\":2},\"scene\":{\"xaxis\":{\"backgroundcolor\":\"#E5ECF6\",\"gridcolor\":\"white\",\"linecolor\":\"white\",\"showbackground\":true,\"ticks\":\"\",\"zerolinecolor\":\"white\",\"gridwidth\":2},\"yaxis\":{\"backgroundcolor\":\"#E5ECF6\",\"gridcolor\":\"white\",\"linecolor\":\"white\",\"showbackground\":true,\"ticks\":\"\",\"zerolinecolor\":\"white\",\"gridwidth\":2},\"zaxis\":{\"backgroundcolor\":\"#E5ECF6\",\"gridcolor\":\"white\",\"linecolor\":\"white\",\"showbackground\":true,\"ticks\":\"\",\"zerolinecolor\":\"white\",\"gridwidth\":2}},\"shapedefaults\":{\"line\":{\"color\":\"#2a3f5f\"}},\"annotationdefaults\":{\"arrowcolor\":\"#2a3f5f\",\"arrowhead\":0,\"arrowwidth\":1},\"geo\":{\"bgcolor\":\"white\",\"landcolor\":\"#E5ECF6\",\"subunitcolor\":\"white\",\"showland\":true,\"showlakes\":true,\"lakecolor\":\"white\"},\"title\":{\"x\":0.05},\"mapbox\":{\"style\":\"light\"}}},\"xaxis\":{\"anchor\":\"y\",\"domain\":[0.0,1.0],\"title\":{\"text\":\"Number of tasks\"},\"type\":\"category\",\"tickvals\":[1,1,1,2,2,2,4,4,4,8,8,8,16,16,16,32,32,32,64,64,64,128,128,128,256,256,256,512,512,512,1024,1024,1024,2048,2048,2048,4096,4096,4096,8192,8192,8192,16384,16384,16384,32768,32768,32768,65536,65536,65536,131072,131072,131072],\"ticktext\":[\"$2^{0}$\",\"$2^{0}$\",\"$2^{0}$\",\"$2^{1}$\",\"$2^{1}$\",\"$2^{1}$\",\"$2^{2}$\",\"$2^{2}$\",\"$2^{2}$\",\"$2^{3}$\",\"$2^{3}$\",\"$2^{3}$\",\"$2^{4}$\",\"$2^{4}$\",\"$2^{4}$\",\"$2^{5}$\",\"$2^{5}$\",\"$2^{5}$\",\"$2^{6}$\",\"$2^{6}$\",\"$2^{6}$\",\"$2^{7}$\",\"$2^{7}$\",\"$2^{7}$\",\"$2^{8}$\",\"$2^{8}$\",\"$2^{8}$\",\"$2^{9}$\",\"$2^{9}$\",\"$2^{9}$\",\"$2^{10}$\",\"$2^{10}$\",\"$2^{10}$\",\"$2^{11}$\",\"$2^{11}$\",\"$2^{11}$\",\"$2^{12}$\",\"$2^{12}$\",\"$2^{12}$\",\"$2^{13}$\",\"$2^{13}$\",\"$2^{13}$\",\"$2^{14}$\",\"$2^{14}$\",\"$2^{14}$\",\"$2^{15}$\",\"$2^{15}$\",\"$2^{15}$\",\"$2^{16}$\",\"$2^{16}$\",\"$2^{16}$\",\"$2^{17}$\",\"$2^{17}$\",\"$2^{17}$\"]},\"yaxis\":{\"anchor\":\"x\",\"domain\":[0.0,1.0],\"title\":{\"text\":\"Accuracy improvement in sequence\"}},\"legend\":{\"title\":{\"text\":\"Dataset\"},\"tracegroupgap\":0,\"x\":0.1,\"y\":0.8,\"bgcolor\":\"white\",\"bordercolor\":\"Black\",\"borderwidth\":2},\"margin\":{\"t\":60},\"width\":725,\"height\":500,\"title\":{\"text\":\"Ability to learn per number of tasks\"},\"shapes\":[{\"fillcolor\":\"gold\",\"label\":{\"font\":{\"size\":12}},\"line\":{\"width\":0},\"opacity\":0.05,\"type\":\"rect\",\"x0\":0,\"x1\":10,\"xref\":\"x\",\"y0\":0,\"y1\":1,\"yref\":\"y domain\"},{\"fillcolor\":\"blue\",\"label\":{\"font\":{\"size\":12}},\"line\":{\"width\":0},\"opacity\":0.05,\"type\":\"rect\",\"x0\":10,\"x1\":14,\"xref\":\"x\",\"y0\":0,\"y1\":1,\"yref\":\"y domain\"},{\"fillcolor\":\"red\",\"label\":{\"font\":{\"size\":12}},\"line\":{\"width\":0},\"opacity\":0.05,\"type\":\"rect\",\"x0\":14,\"x1\":18,\"xref\":\"x\",\"y0\":0,\"y1\":1,\"yref\":\"y domain\"}],\"annotations\":[{\"showarrow\":false,\"text\":\"Instance memorization\",\"x\":10,\"xanchor\":\"right\",\"xref\":\"x\",\"y\":1,\"yanchor\":\"top\",\"yref\":\"y domain\"},{\"showarrow\":false,\"text\":\"Task memorization\",\"x\":14,\"xanchor\":\"right\",\"xref\":\"x\",\"y\":1,\"yanchor\":\"top\",\"yref\":\"y domain\"},{\"showarrow\":false,\"text\":\"Learning to learn\",\"x\":14,\"xanchor\":\"left\",\"xref\":\"x\",\"y\":1,\"yanchor\":\"top\",\"yref\":\"y domain\"}]},                        {\"responsive\": true}                    ).then(function(){\n",
       "                            \n",
       "var gd = document.getElementById('339292ec-d18f-45db-ae6d-b76953924687');\n",
       "var x = new MutationObserver(function (mutations, observer) {{\n",
       "        var display = window.getComputedStyle(gd).display;\n",
       "        if (!display || display === 'none') {{\n",
       "            console.log([gd, 'removed!']);\n",
       "            Plotly.purge(gd);\n",
       "            observer.disconnect();\n",
       "        }}\n",
       "}});\n",
       "\n",
       "// Listen for the removal of the full notebook cells\n",
       "var notebookContainer = gd.closest('#notebook-container');\n",
       "if (notebookContainer) {{\n",
       "    x.observe(notebookContainer, {childList: true});\n",
       "}}\n",
       "\n",
       "// Listen for the clearing of the current output cell\n",
       "var outputEl = gd.closest('.output');\n",
       "if (outputEl) {{\n",
       "    x.observe(outputEl, {childList: true});\n",
       "}}\n",
       "\n",
       "                        })                };                });            </script>        </div>"
      ]
     },
     "metadata": {},
     "output_type": "display_data"
    }
   ],
   "source": [
    "import plotly.express as px\n",
    "\n",
    "fig = px.line(\n",
    "    df, \"n_tasks\", \"last_acc\", color=\"dataset\",\n",
    "    color_discrete_sequence=[\"crimson\", \"midnightblue\", \"goldenrod\"]\n",
    ")\n",
    "fig.update_xaxes(\n",
    "    type='category', tickvals=df.n_tasks.values,\n",
    "    ticktext = [f\"$2^{{{int(np.log2(i))}}}$\" for i in df.n_tasks.values]\n",
    ")\n",
    "fig.update_layout(\n",
    "    legend=dict(\n",
    "        x=0.10,\n",
    "        y=0.80,\n",
    "        bgcolor=\"white\",\n",
    "        bordercolor=\"Black\",\n",
    "        borderwidth=2,\n",
    "        title=\"Dataset\"\n",
    "    ),\n",
    "    width=725, height=500, title=\"Ability to learn per number of tasks\",\n",
    "    yaxis=dict(title=\"Accuracy improvement in sequence\"),\n",
    "    xaxis=dict(title=\"Number of tasks\"),\n",
    ")\n",
    "fig.add_vrect(\n",
    "    x0=0, x1=10, \n",
    "    annotation_text=\"Instance memorization\", annotation_position=\"top right\",\n",
    "    fillcolor=\"gold\", opacity=0.05, line_width=0,\n",
    "    label=dict(font=dict(size=12)),\n",
    ")\n",
    "fig.add_vrect(\n",
    "    x0=10, x1=14, \n",
    "    annotation_text=\"Task memorization\", annotation_position=\"top right\",\n",
    "    fillcolor=\"blue\", opacity=0.05, line_width=0,\n",
    "    label=dict(font=dict(size=12)),\n",
    ")\n",
    "fig.add_vrect(\n",
    "    x0=14, x1=18, \n",
    "    annotation_text=\"Learning to learn\", annotation_position=\"top left\",\n",
    "    fillcolor=\"red\", opacity=0.05, line_width=0,\n",
    "    label=dict(font=dict(size=12)),\n",
    ")\n",
    "fig.show()"
   ]
  },
  {
   "cell_type": "markdown",
   "metadata": {},
   "source": [
    "В целом график получается очень похожим, только качество слегка ниже, чем в статье. Но самое главное мы видим - модель действительно учится обощать при растущем количестве тасок. Посмотрим теперь, как она учится в процессе обработки последовательности"
   ]
  },
  {
   "cell_type": "code",
   "execution_count": 6,
   "metadata": {},
   "outputs": [],
   "source": [
    "from glob import glob\n",
    "\n",
    "res = []\n",
    "for array in glob(\"experiments/*.npy\"):\n",
    "    trained_on, _, dataset = array.split(\"__\")\n",
    "    df = pd.DataFrame(np.load(array))\n",
    "    df[[\"trained_on\", \"dataset\"]] = trained_on.split(\"\\\\\")[1], dataset.split(\".\")[0]\n",
    "    res.append(df)\n",
    "res = pd.concat(res)\n",
    "res[\"daataset\"] = res.dataset.map(set_mapper)\n",
    "res = res[res.dataset != \"seen_mnist\"]"
   ]
  },
  {
   "cell_type": "code",
   "execution_count": 8,
   "metadata": {},
   "outputs": [
    {
     "data": {
      "application/vnd.plotly.v1+json": {
       "config": {
        "plotlyServerURL": "https://plot.ly"
       },
       "data": [
        {
         "hovertemplate": "trained_on=fashion_mnist<br>dataset=unseen_fashion_mnist<br>index=%{x}<br>0=%{y}<extra></extra>",
         "legendgroup": "fashion_mnist",
         "line": {
          "color": "goldenrod",
          "dash": "solid"
         },
         "marker": {
          "symbol": "circle"
         },
         "mode": "lines",
         "name": "fashion_mnist",
         "orientation": "v",
         "showlegend": true,
         "type": "scatter",
         "x": [
          0,
          1,
          2,
          3,
          4,
          5,
          6,
          7,
          8,
          9,
          10,
          11,
          12,
          13,
          14,
          15,
          16,
          17,
          18,
          19,
          20,
          21,
          22,
          23,
          24,
          25,
          26,
          27,
          28,
          29,
          30,
          31,
          32,
          33,
          34,
          35,
          36,
          37,
          38,
          39,
          40,
          41,
          42,
          43,
          44,
          45,
          46,
          47,
          48,
          49,
          50,
          51,
          52,
          53,
          54,
          55,
          56,
          57,
          58,
          59,
          60,
          61,
          62,
          63,
          64,
          65,
          66,
          67,
          68,
          69,
          70,
          71,
          72,
          73,
          74,
          75,
          76,
          77,
          78,
          79,
          80,
          81,
          82,
          83,
          84,
          85,
          86,
          87,
          88,
          89,
          90,
          91,
          92,
          93,
          94,
          95,
          96,
          97,
          98
         ],
         "xaxis": "x",
         "y": [
          0.12109375,
          0.05859375,
          0.13671875,
          0.171875,
          0.19921875,
          0.22265625,
          0.23828125,
          0.265625,
          0.296875,
          0.2734375,
          0.3125,
          0.34375,
          0.32421875,
          0.3515625,
          0.375,
          0.328125,
          0.33203125,
          0.35546875,
          0.41796875,
          0.4609375,
          0.42578125,
          0.3828125,
          0.40625,
          0.40234375,
          0.4296875,
          0.42578125,
          0.48046875,
          0.44140625,
          0.484375,
          0.4375,
          0.453125,
          0.4609375,
          0.4453125,
          0.48046875,
          0.50390625,
          0.49609375,
          0.5,
          0.47265625,
          0.53125,
          0.4765625,
          0.51953125,
          0.44921875,
          0.50390625,
          0.515625,
          0.51953125,
          0.53515625,
          0.4921875,
          0.5390625,
          0.51953125,
          0.5234375,
          0.50390625,
          0.55078125,
          0.55078125,
          0.5234375,
          0.546875,
          0.5546875,
          0.5234375,
          0.5234375,
          0.51953125,
          0.5859375,
          0.54296875,
          0.54296875,
          0.55859375,
          0.578125,
          0.54296875,
          0.5703125,
          0.5546875,
          0.578125,
          0.578125,
          0.5859375,
          0.57421875,
          0.58984375,
          0.5703125,
          0.52734375,
          0.57421875,
          0.59765625,
          0.55078125,
          0.5625,
          0.58203125,
          0.578125,
          0.58984375,
          0.609375,
          0.5859375,
          0.57421875,
          0.5546875,
          0.5859375,
          0.56640625,
          0.5859375,
          0.5859375,
          0.61328125,
          0.59375,
          0.57421875,
          0.5859375,
          0.609375,
          0.6171875,
          0.55078125,
          0.578125,
          0.58984375,
          0.60546875
         ],
         "yaxis": "y"
        },
        {
         "hovertemplate": "trained_on=fashion_mnist<br>dataset=unseen_mnist<br>index=%{x}<br>0=%{y}<extra></extra>",
         "legendgroup": "fashion_mnist",
         "line": {
          "color": "goldenrod",
          "dash": "solid"
         },
         "marker": {
          "symbol": "circle"
         },
         "mode": "lines",
         "name": "fashion_mnist",
         "orientation": "v",
         "showlegend": false,
         "type": "scatter",
         "x": [
          0,
          1,
          2,
          3,
          4,
          5,
          6,
          7,
          8,
          9,
          10,
          11,
          12,
          13,
          14,
          15,
          16,
          17,
          18,
          19,
          20,
          21,
          22,
          23,
          24,
          25,
          26,
          27,
          28,
          29,
          30,
          31,
          32,
          33,
          34,
          35,
          36,
          37,
          38,
          39,
          40,
          41,
          42,
          43,
          44,
          45,
          46,
          47,
          48,
          49,
          50,
          51,
          52,
          53,
          54,
          55,
          56,
          57,
          58,
          59,
          60,
          61,
          62,
          63,
          64,
          65,
          66,
          67,
          68,
          69,
          70,
          71,
          72,
          73,
          74,
          75,
          76,
          77,
          78,
          79,
          80,
          81,
          82,
          83,
          84,
          85,
          86,
          87,
          88,
          89,
          90,
          91,
          92,
          93,
          94,
          95,
          96,
          97,
          98
         ],
         "xaxis": "x2",
         "y": [
          0.1015625,
          0.1171875,
          0.1484375,
          0.15234375,
          0.15625,
          0.17578125,
          0.16796875,
          0.16015625,
          0.18359375,
          0.1875,
          0.2265625,
          0.21484375,
          0.234375,
          0.24609375,
          0.2890625,
          0.2890625,
          0.28515625,
          0.2734375,
          0.30859375,
          0.29296875,
          0.328125,
          0.30078125,
          0.328125,
          0.31640625,
          0.3203125,
          0.296875,
          0.30859375,
          0.3125,
          0.2890625,
          0.34375,
          0.34765625,
          0.3359375,
          0.328125,
          0.3671875,
          0.33203125,
          0.34765625,
          0.3515625,
          0.375,
          0.375,
          0.375,
          0.4140625,
          0.37109375,
          0.39453125,
          0.359375,
          0.35546875,
          0.38671875,
          0.359375,
          0.42578125,
          0.3984375,
          0.375,
          0.390625,
          0.41015625,
          0.3984375,
          0.4140625,
          0.37109375,
          0.40625,
          0.41015625,
          0.4296875,
          0.390625,
          0.41015625,
          0.41796875,
          0.43359375,
          0.3984375,
          0.40625,
          0.4296875,
          0.41796875,
          0.4296875,
          0.44921875,
          0.42578125,
          0.453125,
          0.39453125,
          0.44140625,
          0.39453125,
          0.46484375,
          0.44140625,
          0.44140625,
          0.44921875,
          0.41796875,
          0.4453125,
          0.41015625,
          0.390625,
          0.43359375,
          0.42578125,
          0.44921875,
          0.421875,
          0.421875,
          0.42578125,
          0.45703125,
          0.453125,
          0.4609375,
          0.4609375,
          0.46484375,
          0.4609375,
          0.48828125,
          0.4296875,
          0.4609375,
          0.43359375,
          0.41015625,
          0.46875
         ],
         "yaxis": "y2"
        },
        {
         "hovertemplate": "trained_on=mnist<br>dataset=unseen_fashion_mnist<br>index=%{x}<br>0=%{y}<extra></extra>",
         "legendgroup": "mnist",
         "line": {
          "color": "midnightblue",
          "dash": "solid"
         },
         "marker": {
          "symbol": "circle"
         },
         "mode": "lines",
         "name": "mnist",
         "orientation": "v",
         "showlegend": true,
         "type": "scatter",
         "x": [
          0,
          1,
          2,
          3,
          4,
          5,
          6,
          7,
          8,
          9,
          10,
          11,
          12,
          13,
          14,
          15,
          16,
          17,
          18,
          19,
          20,
          21,
          22,
          23,
          24,
          25,
          26,
          27,
          28,
          29,
          30,
          31,
          32,
          33,
          34,
          35,
          36,
          37,
          38,
          39,
          40,
          41,
          42,
          43,
          44,
          45,
          46,
          47,
          48,
          49,
          50,
          51,
          52,
          53,
          54,
          55,
          56,
          57,
          58,
          59,
          60,
          61,
          62,
          63,
          64,
          65,
          66,
          67,
          68,
          69,
          70,
          71,
          72,
          73,
          74,
          75,
          76,
          77,
          78,
          79,
          80,
          81,
          82,
          83,
          84,
          85,
          86,
          87,
          88,
          89,
          90,
          91,
          92,
          93,
          94,
          95,
          96,
          97,
          98
         ],
         "xaxis": "x",
         "y": [
          0.10546875,
          0.1015625,
          0.12890625,
          0.18359375,
          0.1640625,
          0.1796875,
          0.2265625,
          0.22265625,
          0.25390625,
          0.2734375,
          0.28515625,
          0.28125,
          0.328125,
          0.33984375,
          0.3046875,
          0.31640625,
          0.3515625,
          0.3671875,
          0.34765625,
          0.37109375,
          0.37109375,
          0.359375,
          0.390625,
          0.37109375,
          0.39453125,
          0.3671875,
          0.3828125,
          0.4375,
          0.36328125,
          0.42578125,
          0.41015625,
          0.4375,
          0.4375,
          0.4375,
          0.46875,
          0.453125,
          0.3984375,
          0.44140625,
          0.4140625,
          0.421875,
          0.4375,
          0.4609375,
          0.453125,
          0.46484375,
          0.4609375,
          0.43359375,
          0.47265625,
          0.49609375,
          0.46484375,
          0.484375,
          0.45703125,
          0.47265625,
          0.46484375,
          0.484375,
          0.47265625,
          0.48046875,
          0.47265625,
          0.51171875,
          0.48828125,
          0.47265625,
          0.48046875,
          0.50390625,
          0.54296875,
          0.484375,
          0.5234375,
          0.51953125,
          0.5234375,
          0.5234375,
          0.5078125,
          0.546875,
          0.53515625,
          0.53125,
          0.515625,
          0.484375,
          0.52734375,
          0.5234375,
          0.50390625,
          0.51171875,
          0.51171875,
          0.5390625,
          0.51953125,
          0.51171875,
          0.54296875,
          0.55078125,
          0.5234375,
          0.56640625,
          0.57421875,
          0.51953125,
          0.55859375,
          0.53125,
          0.578125,
          0.55078125,
          0.5234375,
          0.53125,
          0.53125,
          0.5703125,
          0.5546875,
          0.54296875,
          0.56640625
         ],
         "yaxis": "y"
        },
        {
         "hovertemplate": "trained_on=mnist<br>dataset=unseen_mnist<br>index=%{x}<br>0=%{y}<extra></extra>",
         "legendgroup": "mnist",
         "line": {
          "color": "midnightblue",
          "dash": "solid"
         },
         "marker": {
          "symbol": "circle"
         },
         "mode": "lines",
         "name": "mnist",
         "orientation": "v",
         "showlegend": false,
         "type": "scatter",
         "x": [
          0,
          1,
          2,
          3,
          4,
          5,
          6,
          7,
          8,
          9,
          10,
          11,
          12,
          13,
          14,
          15,
          16,
          17,
          18,
          19,
          20,
          21,
          22,
          23,
          24,
          25,
          26,
          27,
          28,
          29,
          30,
          31,
          32,
          33,
          34,
          35,
          36,
          37,
          38,
          39,
          40,
          41,
          42,
          43,
          44,
          45,
          46,
          47,
          48,
          49,
          50,
          51,
          52,
          53,
          54,
          55,
          56,
          57,
          58,
          59,
          60,
          61,
          62,
          63,
          64,
          65,
          66,
          67,
          68,
          69,
          70,
          71,
          72,
          73,
          74,
          75,
          76,
          77,
          78,
          79,
          80,
          81,
          82,
          83,
          84,
          85,
          86,
          87,
          88,
          89,
          90,
          91,
          92,
          93,
          94,
          95,
          96,
          97,
          98
         ],
         "xaxis": "x2",
         "y": [
          0.0859375,
          0.09375,
          0.11328125,
          0.13671875,
          0.1171875,
          0.16015625,
          0.17578125,
          0.17578125,
          0.2109375,
          0.203125,
          0.234375,
          0.25390625,
          0.23828125,
          0.26171875,
          0.26953125,
          0.265625,
          0.31640625,
          0.32421875,
          0.34375,
          0.31640625,
          0.34765625,
          0.37109375,
          0.375,
          0.375,
          0.33984375,
          0.41796875,
          0.3828125,
          0.38671875,
          0.39453125,
          0.40625,
          0.453125,
          0.4375,
          0.41015625,
          0.44140625,
          0.4296875,
          0.44921875,
          0.46484375,
          0.421875,
          0.4140625,
          0.46875,
          0.43359375,
          0.47265625,
          0.4765625,
          0.4609375,
          0.48828125,
          0.453125,
          0.50390625,
          0.4765625,
          0.4765625,
          0.51171875,
          0.51171875,
          0.51171875,
          0.5,
          0.48046875,
          0.51171875,
          0.4765625,
          0.515625,
          0.5078125,
          0.50390625,
          0.5234375,
          0.4765625,
          0.50390625,
          0.54296875,
          0.51171875,
          0.546875,
          0.5390625,
          0.55859375,
          0.55078125,
          0.52734375,
          0.5703125,
          0.55078125,
          0.5390625,
          0.51953125,
          0.515625,
          0.5625,
          0.546875,
          0.57421875,
          0.52734375,
          0.55859375,
          0.53125,
          0.578125,
          0.55859375,
          0.55078125,
          0.59765625,
          0.515625,
          0.53515625,
          0.56640625,
          0.58203125,
          0.5859375,
          0.5859375,
          0.5859375,
          0.57421875,
          0.58203125,
          0.59375,
          0.57421875,
          0.59765625,
          0.56640625,
          0.57421875,
          0.6171875
         ],
         "yaxis": "y2"
        }
       ],
       "layout": {
        "annotations": [
         {
          "font": {},
          "showarrow": false,
          "text": "dataset=unseen_fashion_mnist",
          "x": 0.245,
          "xanchor": "center",
          "xref": "paper",
          "y": 1,
          "yanchor": "bottom",
          "yref": "paper"
         },
         {
          "font": {},
          "showarrow": false,
          "text": "dataset=unseen_mnist",
          "x": 0.755,
          "xanchor": "center",
          "xref": "paper",
          "y": 1,
          "yanchor": "bottom",
          "yref": "paper"
         }
        ],
        "height": 400,
        "legend": {
         "bgcolor": "white",
         "bordercolor": "Black",
         "borderwidth": 2,
         "title": {
          "text": "Trained on"
         },
         "tracegroupgap": 0,
         "x": 0.7,
         "y": 0.1
        },
        "margin": {
         "t": 60
        },
        "template": {
         "data": {
          "bar": [
           {
            "error_x": {
             "color": "#2a3f5f"
            },
            "error_y": {
             "color": "#2a3f5f"
            },
            "marker": {
             "line": {
              "color": "#E5ECF6",
              "width": 0.5
             },
             "pattern": {
              "fillmode": "overlay",
              "size": 10,
              "solidity": 0.2
             }
            },
            "type": "bar"
           }
          ],
          "barpolar": [
           {
            "marker": {
             "line": {
              "color": "#E5ECF6",
              "width": 0.5
             },
             "pattern": {
              "fillmode": "overlay",
              "size": 10,
              "solidity": 0.2
             }
            },
            "type": "barpolar"
           }
          ],
          "carpet": [
           {
            "aaxis": {
             "endlinecolor": "#2a3f5f",
             "gridcolor": "white",
             "linecolor": "white",
             "minorgridcolor": "white",
             "startlinecolor": "#2a3f5f"
            },
            "baxis": {
             "endlinecolor": "#2a3f5f",
             "gridcolor": "white",
             "linecolor": "white",
             "minorgridcolor": "white",
             "startlinecolor": "#2a3f5f"
            },
            "type": "carpet"
           }
          ],
          "choropleth": [
           {
            "colorbar": {
             "outlinewidth": 0,
             "ticks": ""
            },
            "type": "choropleth"
           }
          ],
          "contour": [
           {
            "colorbar": {
             "outlinewidth": 0,
             "ticks": ""
            },
            "colorscale": [
             [
              0,
              "#0d0887"
             ],
             [
              0.1111111111111111,
              "#46039f"
             ],
             [
              0.2222222222222222,
              "#7201a8"
             ],
             [
              0.3333333333333333,
              "#9c179e"
             ],
             [
              0.4444444444444444,
              "#bd3786"
             ],
             [
              0.5555555555555556,
              "#d8576b"
             ],
             [
              0.6666666666666666,
              "#ed7953"
             ],
             [
              0.7777777777777778,
              "#fb9f3a"
             ],
             [
              0.8888888888888888,
              "#fdca26"
             ],
             [
              1,
              "#f0f921"
             ]
            ],
            "type": "contour"
           }
          ],
          "contourcarpet": [
           {
            "colorbar": {
             "outlinewidth": 0,
             "ticks": ""
            },
            "type": "contourcarpet"
           }
          ],
          "heatmap": [
           {
            "colorbar": {
             "outlinewidth": 0,
             "ticks": ""
            },
            "colorscale": [
             [
              0,
              "#0d0887"
             ],
             [
              0.1111111111111111,
              "#46039f"
             ],
             [
              0.2222222222222222,
              "#7201a8"
             ],
             [
              0.3333333333333333,
              "#9c179e"
             ],
             [
              0.4444444444444444,
              "#bd3786"
             ],
             [
              0.5555555555555556,
              "#d8576b"
             ],
             [
              0.6666666666666666,
              "#ed7953"
             ],
             [
              0.7777777777777778,
              "#fb9f3a"
             ],
             [
              0.8888888888888888,
              "#fdca26"
             ],
             [
              1,
              "#f0f921"
             ]
            ],
            "type": "heatmap"
           }
          ],
          "heatmapgl": [
           {
            "colorbar": {
             "outlinewidth": 0,
             "ticks": ""
            },
            "colorscale": [
             [
              0,
              "#0d0887"
             ],
             [
              0.1111111111111111,
              "#46039f"
             ],
             [
              0.2222222222222222,
              "#7201a8"
             ],
             [
              0.3333333333333333,
              "#9c179e"
             ],
             [
              0.4444444444444444,
              "#bd3786"
             ],
             [
              0.5555555555555556,
              "#d8576b"
             ],
             [
              0.6666666666666666,
              "#ed7953"
             ],
             [
              0.7777777777777778,
              "#fb9f3a"
             ],
             [
              0.8888888888888888,
              "#fdca26"
             ],
             [
              1,
              "#f0f921"
             ]
            ],
            "type": "heatmapgl"
           }
          ],
          "histogram": [
           {
            "marker": {
             "pattern": {
              "fillmode": "overlay",
              "size": 10,
              "solidity": 0.2
             }
            },
            "type": "histogram"
           }
          ],
          "histogram2d": [
           {
            "colorbar": {
             "outlinewidth": 0,
             "ticks": ""
            },
            "colorscale": [
             [
              0,
              "#0d0887"
             ],
             [
              0.1111111111111111,
              "#46039f"
             ],
             [
              0.2222222222222222,
              "#7201a8"
             ],
             [
              0.3333333333333333,
              "#9c179e"
             ],
             [
              0.4444444444444444,
              "#bd3786"
             ],
             [
              0.5555555555555556,
              "#d8576b"
             ],
             [
              0.6666666666666666,
              "#ed7953"
             ],
             [
              0.7777777777777778,
              "#fb9f3a"
             ],
             [
              0.8888888888888888,
              "#fdca26"
             ],
             [
              1,
              "#f0f921"
             ]
            ],
            "type": "histogram2d"
           }
          ],
          "histogram2dcontour": [
           {
            "colorbar": {
             "outlinewidth": 0,
             "ticks": ""
            },
            "colorscale": [
             [
              0,
              "#0d0887"
             ],
             [
              0.1111111111111111,
              "#46039f"
             ],
             [
              0.2222222222222222,
              "#7201a8"
             ],
             [
              0.3333333333333333,
              "#9c179e"
             ],
             [
              0.4444444444444444,
              "#bd3786"
             ],
             [
              0.5555555555555556,
              "#d8576b"
             ],
             [
              0.6666666666666666,
              "#ed7953"
             ],
             [
              0.7777777777777778,
              "#fb9f3a"
             ],
             [
              0.8888888888888888,
              "#fdca26"
             ],
             [
              1,
              "#f0f921"
             ]
            ],
            "type": "histogram2dcontour"
           }
          ],
          "mesh3d": [
           {
            "colorbar": {
             "outlinewidth": 0,
             "ticks": ""
            },
            "type": "mesh3d"
           }
          ],
          "parcoords": [
           {
            "line": {
             "colorbar": {
              "outlinewidth": 0,
              "ticks": ""
             }
            },
            "type": "parcoords"
           }
          ],
          "pie": [
           {
            "automargin": true,
            "type": "pie"
           }
          ],
          "scatter": [
           {
            "fillpattern": {
             "fillmode": "overlay",
             "size": 10,
             "solidity": 0.2
            },
            "type": "scatter"
           }
          ],
          "scatter3d": [
           {
            "line": {
             "colorbar": {
              "outlinewidth": 0,
              "ticks": ""
             }
            },
            "marker": {
             "colorbar": {
              "outlinewidth": 0,
              "ticks": ""
             }
            },
            "type": "scatter3d"
           }
          ],
          "scattercarpet": [
           {
            "marker": {
             "colorbar": {
              "outlinewidth": 0,
              "ticks": ""
             }
            },
            "type": "scattercarpet"
           }
          ],
          "scattergeo": [
           {
            "marker": {
             "colorbar": {
              "outlinewidth": 0,
              "ticks": ""
             }
            },
            "type": "scattergeo"
           }
          ],
          "scattergl": [
           {
            "marker": {
             "colorbar": {
              "outlinewidth": 0,
              "ticks": ""
             }
            },
            "type": "scattergl"
           }
          ],
          "scattermapbox": [
           {
            "marker": {
             "colorbar": {
              "outlinewidth": 0,
              "ticks": ""
             }
            },
            "type": "scattermapbox"
           }
          ],
          "scatterpolar": [
           {
            "marker": {
             "colorbar": {
              "outlinewidth": 0,
              "ticks": ""
             }
            },
            "type": "scatterpolar"
           }
          ],
          "scatterpolargl": [
           {
            "marker": {
             "colorbar": {
              "outlinewidth": 0,
              "ticks": ""
             }
            },
            "type": "scatterpolargl"
           }
          ],
          "scatterternary": [
           {
            "marker": {
             "colorbar": {
              "outlinewidth": 0,
              "ticks": ""
             }
            },
            "type": "scatterternary"
           }
          ],
          "surface": [
           {
            "colorbar": {
             "outlinewidth": 0,
             "ticks": ""
            },
            "colorscale": [
             [
              0,
              "#0d0887"
             ],
             [
              0.1111111111111111,
              "#46039f"
             ],
             [
              0.2222222222222222,
              "#7201a8"
             ],
             [
              0.3333333333333333,
              "#9c179e"
             ],
             [
              0.4444444444444444,
              "#bd3786"
             ],
             [
              0.5555555555555556,
              "#d8576b"
             ],
             [
              0.6666666666666666,
              "#ed7953"
             ],
             [
              0.7777777777777778,
              "#fb9f3a"
             ],
             [
              0.8888888888888888,
              "#fdca26"
             ],
             [
              1,
              "#f0f921"
             ]
            ],
            "type": "surface"
           }
          ],
          "table": [
           {
            "cells": {
             "fill": {
              "color": "#EBF0F8"
             },
             "line": {
              "color": "white"
             }
            },
            "header": {
             "fill": {
              "color": "#C8D4E3"
             },
             "line": {
              "color": "white"
             }
            },
            "type": "table"
           }
          ]
         },
         "layout": {
          "annotationdefaults": {
           "arrowcolor": "#2a3f5f",
           "arrowhead": 0,
           "arrowwidth": 1
          },
          "autotypenumbers": "strict",
          "coloraxis": {
           "colorbar": {
            "outlinewidth": 0,
            "ticks": ""
           }
          },
          "colorscale": {
           "diverging": [
            [
             0,
             "#8e0152"
            ],
            [
             0.1,
             "#c51b7d"
            ],
            [
             0.2,
             "#de77ae"
            ],
            [
             0.3,
             "#f1b6da"
            ],
            [
             0.4,
             "#fde0ef"
            ],
            [
             0.5,
             "#f7f7f7"
            ],
            [
             0.6,
             "#e6f5d0"
            ],
            [
             0.7,
             "#b8e186"
            ],
            [
             0.8,
             "#7fbc41"
            ],
            [
             0.9,
             "#4d9221"
            ],
            [
             1,
             "#276419"
            ]
           ],
           "sequential": [
            [
             0,
             "#0d0887"
            ],
            [
             0.1111111111111111,
             "#46039f"
            ],
            [
             0.2222222222222222,
             "#7201a8"
            ],
            [
             0.3333333333333333,
             "#9c179e"
            ],
            [
             0.4444444444444444,
             "#bd3786"
            ],
            [
             0.5555555555555556,
             "#d8576b"
            ],
            [
             0.6666666666666666,
             "#ed7953"
            ],
            [
             0.7777777777777778,
             "#fb9f3a"
            ],
            [
             0.8888888888888888,
             "#fdca26"
            ],
            [
             1,
             "#f0f921"
            ]
           ],
           "sequentialminus": [
            [
             0,
             "#0d0887"
            ],
            [
             0.1111111111111111,
             "#46039f"
            ],
            [
             0.2222222222222222,
             "#7201a8"
            ],
            [
             0.3333333333333333,
             "#9c179e"
            ],
            [
             0.4444444444444444,
             "#bd3786"
            ],
            [
             0.5555555555555556,
             "#d8576b"
            ],
            [
             0.6666666666666666,
             "#ed7953"
            ],
            [
             0.7777777777777778,
             "#fb9f3a"
            ],
            [
             0.8888888888888888,
             "#fdca26"
            ],
            [
             1,
             "#f0f921"
            ]
           ]
          },
          "colorway": [
           "#636efa",
           "#EF553B",
           "#00cc96",
           "#ab63fa",
           "#FFA15A",
           "#19d3f3",
           "#FF6692",
           "#B6E880",
           "#FF97FF",
           "#FECB52"
          ],
          "font": {
           "color": "#2a3f5f"
          },
          "geo": {
           "bgcolor": "white",
           "lakecolor": "white",
           "landcolor": "#E5ECF6",
           "showlakes": true,
           "showland": true,
           "subunitcolor": "white"
          },
          "hoverlabel": {
           "align": "left"
          },
          "hovermode": "closest",
          "mapbox": {
           "style": "light"
          },
          "paper_bgcolor": "white",
          "plot_bgcolor": "#E5ECF6",
          "polar": {
           "angularaxis": {
            "gridcolor": "white",
            "linecolor": "white",
            "ticks": ""
           },
           "bgcolor": "#E5ECF6",
           "radialaxis": {
            "gridcolor": "white",
            "linecolor": "white",
            "ticks": ""
           }
          },
          "scene": {
           "xaxis": {
            "backgroundcolor": "#E5ECF6",
            "gridcolor": "white",
            "gridwidth": 2,
            "linecolor": "white",
            "showbackground": true,
            "ticks": "",
            "zerolinecolor": "white"
           },
           "yaxis": {
            "backgroundcolor": "#E5ECF6",
            "gridcolor": "white",
            "gridwidth": 2,
            "linecolor": "white",
            "showbackground": true,
            "ticks": "",
            "zerolinecolor": "white"
           },
           "zaxis": {
            "backgroundcolor": "#E5ECF6",
            "gridcolor": "white",
            "gridwidth": 2,
            "linecolor": "white",
            "showbackground": true,
            "ticks": "",
            "zerolinecolor": "white"
           }
          },
          "shapedefaults": {
           "line": {
            "color": "#2a3f5f"
           }
          },
          "ternary": {
           "aaxis": {
            "gridcolor": "white",
            "linecolor": "white",
            "ticks": ""
           },
           "baxis": {
            "gridcolor": "white",
            "linecolor": "white",
            "ticks": ""
           },
           "bgcolor": "#E5ECF6",
           "caxis": {
            "gridcolor": "white",
            "linecolor": "white",
            "ticks": ""
           }
          },
          "title": {
           "x": 0.05
          },
          "xaxis": {
           "automargin": true,
           "gridcolor": "white",
           "linecolor": "white",
           "ticks": "",
           "title": {
            "standoff": 15
           },
           "zerolinecolor": "white",
           "zerolinewidth": 2
          },
          "yaxis": {
           "automargin": true,
           "gridcolor": "white",
           "linecolor": "white",
           "ticks": "",
           "title": {
            "standoff": 15
           },
           "zerolinecolor": "white",
           "zerolinewidth": 2
          }
         }
        },
        "title": {
         "text": "Meta test learning curve"
        },
        "width": 700,
        "xaxis": {
         "anchor": "y",
         "autorange": true,
         "domain": [
          0,
          0.49
         ],
         "range": [
          0,
          98
         ],
         "showspikes": false,
         "title": {
          "text": "Number of tasks"
         },
         "type": "linear"
        },
        "xaxis2": {
         "anchor": "y2",
         "autorange": true,
         "domain": [
          0.51,
          1
         ],
         "matches": "x",
         "range": [
          0,
          98
         ],
         "showspikes": false,
         "title": {
          "text": "Number of tasks"
         },
         "type": "linear"
        },
        "yaxis": {
         "anchor": "x",
         "autorange": true,
         "domain": [
          0,
          1
         ],
         "range": [
          0.027560763888888888,
          0.6482204861111112
         ],
         "showspikes": false,
         "title": {
          "text": "Accuracy improvement in sequence"
         },
         "type": "linear"
        },
        "yaxis2": {
         "anchor": "x2",
         "autorange": true,
         "domain": [
          0,
          1
         ],
         "matches": "y",
         "range": [
          0.027560763888888888,
          0.6482204861111112
         ],
         "showspikes": false,
         "showticklabels": false,
         "type": "linear"
        }
       }
      },
      "image/png": "[encoded data removed]",
      "text/html": [
       "<div>                            <div id=\"422c2410-2ffb-4cba-93a9-f7662f0d9b32\" class=\"plotly-graph-div\" style=\"height:400px; width:700px;\"></div>            <script type=\"text/javascript\">                require([\"plotly\"], function(Plotly) {                    window.PLOTLYENV=window.PLOTLYENV || {};                                    if (document.getElementById(\"422c2410-2ffb-4cba-93a9-f7662f0d9b32\")) {                    Plotly.newPlot(                        \"422c2410-2ffb-4cba-93a9-f7662f0d9b32\",                        [{\"hovertemplate\":\"trained_on=fashion_mnist\\u003cbr\\u003edataset=unseen_fashion_mnist\\u003cbr\\u003eindex=%{x}\\u003cbr\\u003e0=%{y}\\u003cextra\\u003e\\u003c\\u002fextra\\u003e\",\"legendgroup\":\"fashion_mnist\",\"line\":{\"color\":\"goldenrod\",\"dash\":\"solid\"},\"marker\":{\"symbol\":\"circle\"},\"mode\":\"lines\",\"name\":\"fashion_mnist\",\"orientation\":\"v\",\"showlegend\":true,\"x\":[0,1,2,3,4,5,6,7,8,9,10,11,12,13,14,15,16,17,18,19,20,21,22,23,24,25,26,27,28,29,30,31,32,33,34,35,36,37,38,39,40,41,42,43,44,45,46,47,48,49,50,51,52,53,54,55,56,57,58,59,60,61,62,63,64,65,66,67,68,69,70,71,72,73,74,75,76,77,78,79,80,81,82,83,84,85,86,87,88,89,90,91,92,93,94,95,96,97,98],\"xaxis\":\"x\",\"y\":[0.12109375,0.05859375,0.13671875,0.171875,0.19921875,0.22265625,0.23828125,0.265625,0.296875,0.2734375,0.3125,0.34375,0.32421875,0.3515625,0.375,0.328125,0.33203125,0.35546875,0.41796875,0.4609375,0.42578125,0.3828125,0.40625,0.40234375,0.4296875,0.42578125,0.48046875,0.44140625,0.484375,0.4375,0.453125,0.4609375,0.4453125,0.48046875,0.50390625,0.49609375,0.5,0.47265625,0.53125,0.4765625,0.51953125,0.44921875,0.50390625,0.515625,0.51953125,0.53515625,0.4921875,0.5390625,0.51953125,0.5234375,0.50390625,0.55078125,0.55078125,0.5234375,0.546875,0.5546875,0.5234375,0.5234375,0.51953125,0.5859375,0.54296875,0.54296875,0.55859375,0.578125,0.54296875,0.5703125,0.5546875,0.578125,0.578125,0.5859375,0.57421875,0.58984375,0.5703125,0.52734375,0.57421875,0.59765625,0.55078125,0.5625,0.58203125,0.578125,0.58984375,0.609375,0.5859375,0.57421875,0.5546875,0.5859375,0.56640625,0.5859375,0.5859375,0.61328125,0.59375,0.57421875,0.5859375,0.609375,0.6171875,0.55078125,0.578125,0.58984375,0.60546875],\"yaxis\":\"y\",\"type\":\"scatter\"},{\"hovertemplate\":\"trained_on=fashion_mnist\\u003cbr\\u003edataset=unseen_mnist\\u003cbr\\u003eindex=%{x}\\u003cbr\\u003e0=%{y}\\u003cextra\\u003e\\u003c\\u002fextra\\u003e\",\"legendgroup\":\"fashion_mnist\",\"line\":{\"color\":\"goldenrod\",\"dash\":\"solid\"},\"marker\":{\"symbol\":\"circle\"},\"mode\":\"lines\",\"name\":\"fashion_mnist\",\"orientation\":\"v\",\"showlegend\":false,\"x\":[0,1,2,3,4,5,6,7,8,9,10,11,12,13,14,15,16,17,18,19,20,21,22,23,24,25,26,27,28,29,30,31,32,33,34,35,36,37,38,39,40,41,42,43,44,45,46,47,48,49,50,51,52,53,54,55,56,57,58,59,60,61,62,63,64,65,66,67,68,69,70,71,72,73,74,75,76,77,78,79,80,81,82,83,84,85,86,87,88,89,90,91,92,93,94,95,96,97,98],\"xaxis\":\"x2\",\"y\":[0.1015625,0.1171875,0.1484375,0.15234375,0.15625,0.17578125,0.16796875,0.16015625,0.18359375,0.1875,0.2265625,0.21484375,0.234375,0.24609375,0.2890625,0.2890625,0.28515625,0.2734375,0.30859375,0.29296875,0.328125,0.30078125,0.328125,0.31640625,0.3203125,0.296875,0.30859375,0.3125,0.2890625,0.34375,0.34765625,0.3359375,0.328125,0.3671875,0.33203125,0.34765625,0.3515625,0.375,0.375,0.375,0.4140625,0.37109375,0.39453125,0.359375,0.35546875,0.38671875,0.359375,0.42578125,0.3984375,0.375,0.390625,0.41015625,0.3984375,0.4140625,0.37109375,0.40625,0.41015625,0.4296875,0.390625,0.41015625,0.41796875,0.43359375,0.3984375,0.40625,0.4296875,0.41796875,0.4296875,0.44921875,0.42578125,0.453125,0.39453125,0.44140625,0.39453125,0.46484375,0.44140625,0.44140625,0.44921875,0.41796875,0.4453125,0.41015625,0.390625,0.43359375,0.42578125,0.44921875,0.421875,0.421875,0.42578125,0.45703125,0.453125,0.4609375,0.4609375,0.46484375,0.4609375,0.48828125,0.4296875,0.4609375,0.43359375,0.41015625,0.46875],\"yaxis\":\"y2\",\"type\":\"scatter\"},{\"hovertemplate\":\"trained_on=mnist\\u003cbr\\u003edataset=unseen_fashion_mnist\\u003cbr\\u003eindex=%{x}\\u003cbr\\u003e0=%{y}\\u003cextra\\u003e\\u003c\\u002fextra\\u003e\",\"legendgroup\":\"mnist\",\"line\":{\"color\":\"midnightblue\",\"dash\":\"solid\"},\"marker\":{\"symbol\":\"circle\"},\"mode\":\"lines\",\"name\":\"mnist\",\"orientation\":\"v\",\"showlegend\":true,\"x\":[0,1,2,3,4,5,6,7,8,9,10,11,12,13,14,15,16,17,18,19,20,21,22,23,24,25,26,27,28,29,30,31,32,33,34,35,36,37,38,39,40,41,42,43,44,45,46,47,48,49,50,51,52,53,54,55,56,57,58,59,60,61,62,63,64,65,66,67,68,69,70,71,72,73,74,75,76,77,78,79,80,81,82,83,84,85,86,87,88,89,90,91,92,93,94,95,96,97,98],\"xaxis\":\"x\",\"y\":[0.10546875,0.1015625,0.12890625,0.18359375,0.1640625,0.1796875,0.2265625,0.22265625,0.25390625,0.2734375,0.28515625,0.28125,0.328125,0.33984375,0.3046875,0.31640625,0.3515625,0.3671875,0.34765625,0.37109375,0.37109375,0.359375,0.390625,0.37109375,0.39453125,0.3671875,0.3828125,0.4375,0.36328125,0.42578125,0.41015625,0.4375,0.4375,0.4375,0.46875,0.453125,0.3984375,0.44140625,0.4140625,0.421875,0.4375,0.4609375,0.453125,0.46484375,0.4609375,0.43359375,0.47265625,0.49609375,0.46484375,0.484375,0.45703125,0.47265625,0.46484375,0.484375,0.47265625,0.48046875,0.47265625,0.51171875,0.48828125,0.47265625,0.48046875,0.50390625,0.54296875,0.484375,0.5234375,0.51953125,0.5234375,0.5234375,0.5078125,0.546875,0.53515625,0.53125,0.515625,0.484375,0.52734375,0.5234375,0.50390625,0.51171875,0.51171875,0.5390625,0.51953125,0.51171875,0.54296875,0.55078125,0.5234375,0.56640625,0.57421875,0.51953125,0.55859375,0.53125,0.578125,0.55078125,0.5234375,0.53125,0.53125,0.5703125,0.5546875,0.54296875,0.56640625],\"yaxis\":\"y\",\"type\":\"scatter\"},{\"hovertemplate\":\"trained_on=mnist\\u003cbr\\u003edataset=unseen_mnist\\u003cbr\\u003eindex=%{x}\\u003cbr\\u003e0=%{y}\\u003cextra\\u003e\\u003c\\u002fextra\\u003e\",\"legendgroup\":\"mnist\",\"line\":{\"color\":\"midnightblue\",\"dash\":\"solid\"},\"marker\":{\"symbol\":\"circle\"},\"mode\":\"lines\",\"name\":\"mnist\",\"orientation\":\"v\",\"showlegend\":false,\"x\":[0,1,2,3,4,5,6,7,8,9,10,11,12,13,14,15,16,17,18,19,20,21,22,23,24,25,26,27,28,29,30,31,32,33,34,35,36,37,38,39,40,41,42,43,44,45,46,47,48,49,50,51,52,53,54,55,56,57,58,59,60,61,62,63,64,65,66,67,68,69,70,71,72,73,74,75,76,77,78,79,80,81,82,83,84,85,86,87,88,89,90,91,92,93,94,95,96,97,98],\"xaxis\":\"x2\",\"y\":[0.0859375,0.09375,0.11328125,0.13671875,0.1171875,0.16015625,0.17578125,0.17578125,0.2109375,0.203125,0.234375,0.25390625,0.23828125,0.26171875,0.26953125,0.265625,0.31640625,0.32421875,0.34375,0.31640625,0.34765625,0.37109375,0.375,0.375,0.33984375,0.41796875,0.3828125,0.38671875,0.39453125,0.40625,0.453125,0.4375,0.41015625,0.44140625,0.4296875,0.44921875,0.46484375,0.421875,0.4140625,0.46875,0.43359375,0.47265625,0.4765625,0.4609375,0.48828125,0.453125,0.50390625,0.4765625,0.4765625,0.51171875,0.51171875,0.51171875,0.5,0.48046875,0.51171875,0.4765625,0.515625,0.5078125,0.50390625,0.5234375,0.4765625,0.50390625,0.54296875,0.51171875,0.546875,0.5390625,0.55859375,0.55078125,0.52734375,0.5703125,0.55078125,0.5390625,0.51953125,0.515625,0.5625,0.546875,0.57421875,0.52734375,0.55859375,0.53125,0.578125,0.55859375,0.55078125,0.59765625,0.515625,0.53515625,0.56640625,0.58203125,0.5859375,0.5859375,0.5859375,0.57421875,0.58203125,0.59375,0.57421875,0.59765625,0.56640625,0.57421875,0.6171875],\"yaxis\":\"y2\",\"type\":\"scatter\"}],                        {\"template\":{\"data\":{\"histogram2dcontour\":[{\"type\":\"histogram2dcontour\",\"colorbar\":{\"outlinewidth\":0,\"ticks\":\"\"},\"colorscale\":[[0.0,\"#0d0887\"],[0.1111111111111111,\"#46039f\"],[0.2222222222222222,\"#7201a8\"],[0.3333333333333333,\"#9c179e\"],[0.4444444444444444,\"#bd3786\"],[0.5555555555555556,\"#d8576b\"],[0.6666666666666666,\"#ed7953\"],[0.7777777777777778,\"#fb9f3a\"],[0.8888888888888888,\"#fdca26\"],[1.0,\"#f0f921\"]]}],\"choropleth\":[{\"type\":\"choropleth\",\"colorbar\":{\"outlinewidth\":0,\"ticks\":\"\"}}],\"histogram2d\":[{\"type\":\"histogram2d\",\"colorbar\":{\"outlinewidth\":0,\"ticks\":\"\"},\"colorscale\":[[0.0,\"#0d0887\"],[0.1111111111111111,\"#46039f\"],[0.2222222222222222,\"#7201a8\"],[0.3333333333333333,\"#9c179e\"],[0.4444444444444444,\"#bd3786\"],[0.5555555555555556,\"#d8576b\"],[0.6666666666666666,\"#ed7953\"],[0.7777777777777778,\"#fb9f3a\"],[0.8888888888888888,\"#fdca26\"],[1.0,\"#f0f921\"]]}],\"heatmap\":[{\"type\":\"heatmap\",\"colorbar\":{\"outlinewidth\":0,\"ticks\":\"\"},\"colorscale\":[[0.0,\"#0d0887\"],[0.1111111111111111,\"#46039f\"],[0.2222222222222222,\"#7201a8\"],[0.3333333333333333,\"#9c179e\"],[0.4444444444444444,\"#bd3786\"],[0.5555555555555556,\"#d8576b\"],[0.6666666666666666,\"#ed7953\"],[0.7777777777777778,\"#fb9f3a\"],[0.8888888888888888,\"#fdca26\"],[1.0,\"#f0f921\"]]}],\"heatmapgl\":[{\"type\":\"heatmapgl\",\"colorbar\":{\"outlinewidth\":0,\"ticks\":\"\"},\"colorscale\":[[0.0,\"#0d0887\"],[0.1111111111111111,\"#46039f\"],[0.2222222222222222,\"#7201a8\"],[0.3333333333333333,\"#9c179e\"],[0.4444444444444444,\"#bd3786\"],[0.5555555555555556,\"#d8576b\"],[0.6666666666666666,\"#ed7953\"],[0.7777777777777778,\"#fb9f3a\"],[0.8888888888888888,\"#fdca26\"],[1.0,\"#f0f921\"]]}],\"contourcarpet\":[{\"type\":\"contourcarpet\",\"colorbar\":{\"outlinewidth\":0,\"ticks\":\"\"}}],\"contour\":[{\"type\":\"contour\",\"colorbar\":{\"outlinewidth\":0,\"ticks\":\"\"},\"colorscale\":[[0.0,\"#0d0887\"],[0.1111111111111111,\"#46039f\"],[0.2222222222222222,\"#7201a8\"],[0.3333333333333333,\"#9c179e\"],[0.4444444444444444,\"#bd3786\"],[0.5555555555555556,\"#d8576b\"],[0.6666666666666666,\"#ed7953\"],[0.7777777777777778,\"#fb9f3a\"],[0.8888888888888888,\"#fdca26\"],[1.0,\"#f0f921\"]]}],\"surface\":[{\"type\":\"surface\",\"colorbar\":{\"outlinewidth\":0,\"ticks\":\"\"},\"colorscale\":[[0.0,\"#0d0887\"],[0.1111111111111111,\"#46039f\"],[0.2222222222222222,\"#7201a8\"],[0.3333333333333333,\"#9c179e\"],[0.4444444444444444,\"#bd3786\"],[0.5555555555555556,\"#d8576b\"],[0.6666666666666666,\"#ed7953\"],[0.7777777777777778,\"#fb9f3a\"],[0.8888888888888888,\"#fdca26\"],[1.0,\"#f0f921\"]]}],\"mesh3d\":[{\"type\":\"mesh3d\",\"colorbar\":{\"outlinewidth\":0,\"ticks\":\"\"}}],\"scatter\":[{\"fillpattern\":{\"fillmode\":\"overlay\",\"size\":10,\"solidity\":0.2},\"type\":\"scatter\"}],\"parcoords\":[{\"type\":\"parcoords\",\"line\":{\"colorbar\":{\"outlinewidth\":0,\"ticks\":\"\"}}}],\"scatterpolargl\":[{\"type\":\"scatterpolargl\",\"marker\":{\"colorbar\":{\"outlinewidth\":0,\"ticks\":\"\"}}}],\"bar\":[{\"error_x\":{\"color\":\"#2a3f5f\"},\"error_y\":{\"color\":\"#2a3f5f\"},\"marker\":{\"line\":{\"color\":\"#E5ECF6\",\"width\":0.5},\"pattern\":{\"fillmode\":\"overlay\",\"size\":10,\"solidity\":0.2}},\"type\":\"bar\"}],\"scattergeo\":[{\"type\":\"scattergeo\",\"marker\":{\"colorbar\":{\"outlinewidth\":0,\"ticks\":\"\"}}}],\"scatterpolar\":[{\"type\":\"scatterpolar\",\"marker\":{\"colorbar\":{\"outlinewidth\":0,\"ticks\":\"\"}}}],\"histogram\":[{\"marker\":{\"pattern\":{\"fillmode\":\"overlay\",\"size\":10,\"solidity\":0.2}},\"type\":\"histogram\"}],\"scattergl\":[{\"type\":\"scattergl\",\"marker\":{\"colorbar\":{\"outlinewidth\":0,\"ticks\":\"\"}}}],\"scatter3d\":[{\"type\":\"scatter3d\",\"line\":{\"colorbar\":{\"outlinewidth\":0,\"ticks\":\"\"}},\"marker\":{\"colorbar\":{\"outlinewidth\":0,\"ticks\":\"\"}}}],\"scattermapbox\":[{\"type\":\"scattermapbox\",\"marker\":{\"colorbar\":{\"outlinewidth\":0,\"ticks\":\"\"}}}],\"scatterternary\":[{\"type\":\"scatterternary\",\"marker\":{\"colorbar\":{\"outlinewidth\":0,\"ticks\":\"\"}}}],\"scattercarpet\":[{\"type\":\"scattercarpet\",\"marker\":{\"colorbar\":{\"outlinewidth\":0,\"ticks\":\"\"}}}],\"carpet\":[{\"aaxis\":{\"endlinecolor\":\"#2a3f5f\",\"gridcolor\":\"white\",\"linecolor\":\"white\",\"minorgridcolor\":\"white\",\"startlinecolor\":\"#2a3f5f\"},\"baxis\":{\"endlinecolor\":\"#2a3f5f\",\"gridcolor\":\"white\",\"linecolor\":\"white\",\"minorgridcolor\":\"white\",\"startlinecolor\":\"#2a3f5f\"},\"type\":\"carpet\"}],\"table\":[{\"cells\":{\"fill\":{\"color\":\"#EBF0F8\"},\"line\":{\"color\":\"white\"}},\"header\":{\"fill\":{\"color\":\"#C8D4E3\"},\"line\":{\"color\":\"white\"}},\"type\":\"table\"}],\"barpolar\":[{\"marker\":{\"line\":{\"color\":\"#E5ECF6\",\"width\":0.5},\"pattern\":{\"fillmode\":\"overlay\",\"size\":10,\"solidity\":0.2}},\"type\":\"barpolar\"}],\"pie\":[{\"automargin\":true,\"type\":\"pie\"}]},\"layout\":{\"autotypenumbers\":\"strict\",\"colorway\":[\"#636efa\",\"#EF553B\",\"#00cc96\",\"#ab63fa\",\"#FFA15A\",\"#19d3f3\",\"#FF6692\",\"#B6E880\",\"#FF97FF\",\"#FECB52\"],\"font\":{\"color\":\"#2a3f5f\"},\"hovermode\":\"closest\",\"hoverlabel\":{\"align\":\"left\"},\"paper_bgcolor\":\"white\",\"plot_bgcolor\":\"#E5ECF6\",\"polar\":{\"bgcolor\":\"#E5ECF6\",\"angularaxis\":{\"gridcolor\":\"white\",\"linecolor\":\"white\",\"ticks\":\"\"},\"radialaxis\":{\"gridcolor\":\"white\",\"linecolor\":\"white\",\"ticks\":\"\"}},\"ternary\":{\"bgcolor\":\"#E5ECF6\",\"aaxis\":{\"gridcolor\":\"white\",\"linecolor\":\"white\",\"ticks\":\"\"},\"baxis\":{\"gridcolor\":\"white\",\"linecolor\":\"white\",\"ticks\":\"\"},\"caxis\":{\"gridcolor\":\"white\",\"linecolor\":\"white\",\"ticks\":\"\"}},\"coloraxis\":{\"colorbar\":{\"outlinewidth\":0,\"ticks\":\"\"}},\"colorscale\":{\"sequential\":[[0.0,\"#0d0887\"],[0.1111111111111111,\"#46039f\"],[0.2222222222222222,\"#7201a8\"],[0.3333333333333333,\"#9c179e\"],[0.4444444444444444,\"#bd3786\"],[0.5555555555555556,\"#d8576b\"],[0.6666666666666666,\"#ed7953\"],[0.7777777777777778,\"#fb9f3a\"],[0.8888888888888888,\"#fdca26\"],[1.0,\"#f0f921\"]],\"sequentialminus\":[[0.0,\"#0d0887\"],[0.1111111111111111,\"#46039f\"],[0.2222222222222222,\"#7201a8\"],[0.3333333333333333,\"#9c179e\"],[0.4444444444444444,\"#bd3786\"],[0.5555555555555556,\"#d8576b\"],[0.6666666666666666,\"#ed7953\"],[0.7777777777777778,\"#fb9f3a\"],[0.8888888888888888,\"#fdca26\"],[1.0,\"#f0f921\"]],\"diverging\":[[0,\"#8e0152\"],[0.1,\"#c51b7d\"],[0.2,\"#de77ae\"],[0.3,\"#f1b6da\"],[0.4,\"#fde0ef\"],[0.5,\"#f7f7f7\"],[0.6,\"#e6f5d0\"],[0.7,\"#b8e186\"],[0.8,\"#7fbc41\"],[0.9,\"#4d9221\"],[1,\"#276419\"]]},\"xaxis\":{\"gridcolor\":\"white\",\"linecolor\":\"white\",\"ticks\":\"\",\"title\":{\"standoff\":15},\"zerolinecolor\":\"white\",\"automargin\":true,\"zerolinewidth\":2},\"yaxis\":{\"gridcolor\":\"white\",\"linecolor\":\"white\",\"ticks\":\"\",\"title\":{\"standoff\":15},\"zerolinecolor\":\"white\",\"automargin\":true,\"zerolinewidth\":2},\"scene\":{\"xaxis\":{\"backgroundcolor\":\"#E5ECF6\",\"gridcolor\":\"white\",\"linecolor\":\"white\",\"showbackground\":true,\"ticks\":\"\",\"zerolinecolor\":\"white\",\"gridwidth\":2},\"yaxis\":{\"backgroundcolor\":\"#E5ECF6\",\"gridcolor\":\"white\",\"linecolor\":\"white\",\"showbackground\":true,\"ticks\":\"\",\"zerolinecolor\":\"white\",\"gridwidth\":2},\"zaxis\":{\"backgroundcolor\":\"#E5ECF6\",\"gridcolor\":\"white\",\"linecolor\":\"white\",\"showbackground\":true,\"ticks\":\"\",\"zerolinecolor\":\"white\",\"gridwidth\":2}},\"shapedefaults\":{\"line\":{\"color\":\"#2a3f5f\"}},\"annotationdefaults\":{\"arrowcolor\":\"#2a3f5f\",\"arrowhead\":0,\"arrowwidth\":1},\"geo\":{\"bgcolor\":\"white\",\"landcolor\":\"#E5ECF6\",\"subunitcolor\":\"white\",\"showland\":true,\"showlakes\":true,\"lakecolor\":\"white\"},\"title\":{\"x\":0.05},\"mapbox\":{\"style\":\"light\"}}},\"xaxis\":{\"anchor\":\"y\",\"domain\":[0.0,0.49],\"title\":{\"text\":\"Number of tasks\"}},\"yaxis\":{\"anchor\":\"x\",\"domain\":[0.0,1.0],\"title\":{\"text\":\"Accuracy improvement in sequence\"}},\"xaxis2\":{\"anchor\":\"y2\",\"domain\":[0.51,1.0],\"matches\":\"x\",\"title\":{\"text\":\"Number of tasks\"}},\"yaxis2\":{\"anchor\":\"x2\",\"domain\":[0.0,1.0],\"matches\":\"y\",\"showticklabels\":false},\"annotations\":[{\"font\":{},\"showarrow\":false,\"text\":\"dataset=unseen_fashion_mnist\",\"x\":0.245,\"xanchor\":\"center\",\"xref\":\"paper\",\"y\":1.0,\"yanchor\":\"bottom\",\"yref\":\"paper\"},{\"font\":{},\"showarrow\":false,\"text\":\"dataset=unseen_mnist\",\"x\":0.755,\"xanchor\":\"center\",\"xref\":\"paper\",\"y\":1.0,\"yanchor\":\"bottom\",\"yref\":\"paper\"}],\"legend\":{\"title\":{\"text\":\"Trained on\"},\"tracegroupgap\":0,\"x\":0.7,\"y\":0.1,\"bgcolor\":\"white\",\"bordercolor\":\"Black\",\"borderwidth\":2},\"margin\":{\"t\":60},\"width\":700,\"height\":400,\"title\":{\"text\":\"Meta test learning curve\"}},                        {\"responsive\": true}                    ).then(function(){\n",
       "                            \n",
       "var gd = document.getElementById('422c2410-2ffb-4cba-93a9-f7662f0d9b32');\n",
       "var x = new MutationObserver(function (mutations, observer) {{\n",
       "        var display = window.getComputedStyle(gd).display;\n",
       "        if (!display || display === 'none') {{\n",
       "            console.log([gd, 'removed!']);\n",
       "            Plotly.purge(gd);\n",
       "            observer.disconnect();\n",
       "        }}\n",
       "}});\n",
       "\n",
       "// Listen for the removal of the full notebook cells\n",
       "var notebookContainer = gd.closest('#notebook-container');\n",
       "if (notebookContainer) {{\n",
       "    x.observe(notebookContainer, {childList: true});\n",
       "}}\n",
       "\n",
       "// Listen for the clearing of the current output cell\n",
       "var outputEl = gd.closest('.output');\n",
       "if (outputEl) {{\n",
       "    x.observe(outputEl, {childList: true});\n",
       "}}\n",
       "\n",
       "                        })                };                });            </script>        </div>"
      ]
     },
     "metadata": {},
     "output_type": "display_data"
    }
   ],
   "source": [
    "fig = px.line(\n",
    "    res, y=0, color=\"trained_on\", facet_col=\"dataset\",\n",
    "    color_discrete_sequence=[\"goldenrod\", \"midnightblue\"]\n",
    ")\n",
    "fig.update_layout(\n",
    "    legend=dict(\n",
    "        x=0.70,\n",
    "        y=0.10,\n",
    "        bgcolor=\"white\",\n",
    "        bordercolor=\"Black\",\n",
    "        borderwidth=2,\n",
    "        title=\"Trained on\"\n",
    "    ),\n",
    "    width=700, height=400, title=\"Meta test learning curve\",\n",
    "    yaxis=dict(title=\"Accuracy improvement in sequence\"),\n",
    ")\n",
    "fig.update_xaxes(title=\"Number of tasks\")\n",
    "fig.show()"
   ]
  },
  {
   "cell_type": "markdown",
   "metadata": {},
   "source": [
    "И действительно, в процессе модель всё больше и больше понимает, аккураси со временем растёт. Не так внушительно, как в оригинальной статье, но всё же, значит и правда научились учиться. Но так или иначе, почему-то обучающий датасет на это влияет, но авторы в это тоже не вдаются"
   ]
  }
 ],
 "metadata": {
  "colab": {
   "provenance": []
  },
  "kernelspec": {
   "display_name": "Python 3 (ipykernel)",
   "language": "python",
   "name": "python3"
  },
  "language_info": {
   "codemirror_mode": {
    "name": "ipython",
    "version": 3
   },
   "file_extension": ".py",
   "mimetype": "text/x-python",
   "name": "python",
   "nbconvert_exporter": "python",
   "pygments_lexer": "ipython3",
   "version": "3.11.5"
  }
 },
 "nbformat": 4,
 "nbformat_minor": 4
}
